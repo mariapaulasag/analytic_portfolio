{
  "nbformat": 4,
  "nbformat_minor": 0,
  "metadata": {
    "colab": {
      "name": "4.Modeling_Bautista_Sanchez.ipynb",
      "provenance": [],
      "collapsed_sections": [],
      "toc_visible": true
    },
    "kernelspec": {
      "name": "python3",
      "display_name": "Python 3"
    },
    "language_info": {
      "name": "python"
    }
  },
  "cells": [
    {
      "cell_type": "markdown",
      "source": [
        "## **Capstone Project: Predicting Term Deposit Subscription**\n",
        "## **Modeling**"
      ],
      "metadata": {
        "id": "HsF2jMdzW4D6"
      }
    },
    {
      "cell_type": "markdown",
      "source": [
        "## ***I. Importing the Libraries***"
      ],
      "metadata": {
        "id": "yXYFlEo1W-VE"
      }
    },
    {
      "cell_type": "code",
      "execution_count": null,
      "metadata": {
        "id": "Nbu5lRpoWzDy"
      },
      "outputs": [],
      "source": [
        "#Load the packages\n",
        "import pandas as pd\n",
        "import numpy as np\n",
        "import scipy.stats as stats\n",
        "import matplotlib.pyplot as plt\n",
        "import seaborn as sns\n",
        "import missingno as msno\n",
        "from sklearn.metrics import classification_report\n",
        "from google.colab import files\n",
        "from IPython.display import Image\n",
        "from sklearn.preprocessing import StandardScaler\n",
        "from sklearn import metrics\n",
        "from sklearn.model_selection import train_test_split\n",
        "from sklearn.model_selection import GridSearchCV\n",
        "from sklearn.svm import SVC\n",
        "from sklearn import metrics\n",
        "from sklearn.metrics import confusion_matrix, classification_report\n",
        "from sklearn.model_selection import cross_val_score\n",
        "from sklearn.tree import DecisionTreeClassifier, plot_tree\n",
        "from sklearn.ensemble import RandomForestClassifier\n",
        "from sklearn.ensemble import AdaBoostClassifier\n",
        "from sklearn.ensemble import GradientBoostingClassifier\n",
        "from sklearn.naive_bayes import GaussianNB\n",
        "from sklearn.neighbors import KNeighborsClassifier\n",
        "from sklearn.model_selection import StratifiedKFold\n",
        "from sklearn.metrics import accuracy_score\n",
        "from sklearn import tree\n",
        "from sklearn import preprocessing\n",
        "from sklearn.decomposition import PCA\n",
        "from sklearn.preprocessing import StandardScaler\n",
        "from sklearn.linear_model import LogisticRegression\n",
        "from sklearn.pipeline import Pipeline\n",
        "from sklearn.ensemble import GradientBoostingClassifier\n",
        "from sklearn.metrics import roc_auc_score\n",
        "from sklearn.metrics import roc_curve\n",
        "from sklearn.metrics import precision_recall_curve\n",
        "from sklearn.metrics import auc\n",
        "\n",
        "%matplotlib inline"
      ]
    },
    {
      "cell_type": "markdown",
      "source": [
        "## ***II. Getting the data***"
      ],
      "metadata": {
        "id": "1v2n2fclI9nI"
      }
    },
    {
      "cell_type": "code",
      "source": [
        "#Load the data\n",
        "banks6 = pd.read_csv('bank-full-finaldata.csv')"
      ],
      "metadata": {
        "id": "9Xlc44C5I9Rp"
      },
      "execution_count": null,
      "outputs": []
    },
    {
      "cell_type": "code",
      "source": [
        "#View the data\n",
        "banks6.head()"
      ],
      "metadata": {
        "colab": {
          "base_uri": "https://localhost:8080/",
          "height": 206
        },
        "id": "qwe4c5NbJDCO",
        "outputId": "fa166601-da82-4efc-d4f7-4807ead5d1f1"
      },
      "execution_count": null,
      "outputs": [
        {
          "output_type": "execute_result",
          "data": {
            "text/plain": [
              "   age           job  marital  education default  balance housing loan  \\\n",
              "0   58    management  married   tertiary      no     2143     yes   no   \n",
              "1   44    technician   single  secondary      no       29     yes   no   \n",
              "2   33  entrepreneur  married  secondary      no        2     yes  yes   \n",
              "3   47   blue-collar  married    unknown      no     1506     yes   no   \n",
              "4   33       unknown   single    unknown      no        1      no   no   \n",
              "\n",
              "   contact  day month  duration  campaign  pdays  previous poutcome   y  \n",
              "0  unknown    5   may       261         1     -1         0  unknown  no  \n",
              "1  unknown    5   may       151         1     -1         0  unknown  no  \n",
              "2  unknown    5   may        76         1     -1         0  unknown  no  \n",
              "3  unknown    5   may        92         1     -1         0  unknown  no  \n",
              "4  unknown    5   may       198         1     -1         0  unknown  no  "
            ],
            "text/html": [
              "\n",
              "  <div id=\"df-0157da0e-ab6d-48fe-acdb-831fd397e143\">\n",
              "    <div class=\"colab-df-container\">\n",
              "      <div>\n",
              "<style scoped>\n",
              "    .dataframe tbody tr th:only-of-type {\n",
              "        vertical-align: middle;\n",
              "    }\n",
              "\n",
              "    .dataframe tbody tr th {\n",
              "        vertical-align: top;\n",
              "    }\n",
              "\n",
              "    .dataframe thead th {\n",
              "        text-align: right;\n",
              "    }\n",
              "</style>\n",
              "<table border=\"1\" class=\"dataframe\">\n",
              "  <thead>\n",
              "    <tr style=\"text-align: right;\">\n",
              "      <th></th>\n",
              "      <th>age</th>\n",
              "      <th>job</th>\n",
              "      <th>marital</th>\n",
              "      <th>education</th>\n",
              "      <th>default</th>\n",
              "      <th>balance</th>\n",
              "      <th>housing</th>\n",
              "      <th>loan</th>\n",
              "      <th>contact</th>\n",
              "      <th>day</th>\n",
              "      <th>month</th>\n",
              "      <th>duration</th>\n",
              "      <th>campaign</th>\n",
              "      <th>pdays</th>\n",
              "      <th>previous</th>\n",
              "      <th>poutcome</th>\n",
              "      <th>y</th>\n",
              "    </tr>\n",
              "  </thead>\n",
              "  <tbody>\n",
              "    <tr>\n",
              "      <th>0</th>\n",
              "      <td>58</td>\n",
              "      <td>management</td>\n",
              "      <td>married</td>\n",
              "      <td>tertiary</td>\n",
              "      <td>no</td>\n",
              "      <td>2143</td>\n",
              "      <td>yes</td>\n",
              "      <td>no</td>\n",
              "      <td>unknown</td>\n",
              "      <td>5</td>\n",
              "      <td>may</td>\n",
              "      <td>261</td>\n",
              "      <td>1</td>\n",
              "      <td>-1</td>\n",
              "      <td>0</td>\n",
              "      <td>unknown</td>\n",
              "      <td>no</td>\n",
              "    </tr>\n",
              "    <tr>\n",
              "      <th>1</th>\n",
              "      <td>44</td>\n",
              "      <td>technician</td>\n",
              "      <td>single</td>\n",
              "      <td>secondary</td>\n",
              "      <td>no</td>\n",
              "      <td>29</td>\n",
              "      <td>yes</td>\n",
              "      <td>no</td>\n",
              "      <td>unknown</td>\n",
              "      <td>5</td>\n",
              "      <td>may</td>\n",
              "      <td>151</td>\n",
              "      <td>1</td>\n",
              "      <td>-1</td>\n",
              "      <td>0</td>\n",
              "      <td>unknown</td>\n",
              "      <td>no</td>\n",
              "    </tr>\n",
              "    <tr>\n",
              "      <th>2</th>\n",
              "      <td>33</td>\n",
              "      <td>entrepreneur</td>\n",
              "      <td>married</td>\n",
              "      <td>secondary</td>\n",
              "      <td>no</td>\n",
              "      <td>2</td>\n",
              "      <td>yes</td>\n",
              "      <td>yes</td>\n",
              "      <td>unknown</td>\n",
              "      <td>5</td>\n",
              "      <td>may</td>\n",
              "      <td>76</td>\n",
              "      <td>1</td>\n",
              "      <td>-1</td>\n",
              "      <td>0</td>\n",
              "      <td>unknown</td>\n",
              "      <td>no</td>\n",
              "    </tr>\n",
              "    <tr>\n",
              "      <th>3</th>\n",
              "      <td>47</td>\n",
              "      <td>blue-collar</td>\n",
              "      <td>married</td>\n",
              "      <td>unknown</td>\n",
              "      <td>no</td>\n",
              "      <td>1506</td>\n",
              "      <td>yes</td>\n",
              "      <td>no</td>\n",
              "      <td>unknown</td>\n",
              "      <td>5</td>\n",
              "      <td>may</td>\n",
              "      <td>92</td>\n",
              "      <td>1</td>\n",
              "      <td>-1</td>\n",
              "      <td>0</td>\n",
              "      <td>unknown</td>\n",
              "      <td>no</td>\n",
              "    </tr>\n",
              "    <tr>\n",
              "      <th>4</th>\n",
              "      <td>33</td>\n",
              "      <td>unknown</td>\n",
              "      <td>single</td>\n",
              "      <td>unknown</td>\n",
              "      <td>no</td>\n",
              "      <td>1</td>\n",
              "      <td>no</td>\n",
              "      <td>no</td>\n",
              "      <td>unknown</td>\n",
              "      <td>5</td>\n",
              "      <td>may</td>\n",
              "      <td>198</td>\n",
              "      <td>1</td>\n",
              "      <td>-1</td>\n",
              "      <td>0</td>\n",
              "      <td>unknown</td>\n",
              "      <td>no</td>\n",
              "    </tr>\n",
              "  </tbody>\n",
              "</table>\n",
              "</div>\n",
              "      <button class=\"colab-df-convert\" onclick=\"convertToInteractive('df-0157da0e-ab6d-48fe-acdb-831fd397e143')\"\n",
              "              title=\"Convert this dataframe to an interactive table.\"\n",
              "              style=\"display:none;\">\n",
              "        \n",
              "  <svg xmlns=\"http://www.w3.org/2000/svg\" height=\"24px\"viewBox=\"0 0 24 24\"\n",
              "       width=\"24px\">\n",
              "    <path d=\"M0 0h24v24H0V0z\" fill=\"none\"/>\n",
              "    <path d=\"M18.56 5.44l.94 2.06.94-2.06 2.06-.94-2.06-.94-.94-2.06-.94 2.06-2.06.94zm-11 1L8.5 8.5l.94-2.06 2.06-.94-2.06-.94L8.5 2.5l-.94 2.06-2.06.94zm10 10l.94 2.06.94-2.06 2.06-.94-2.06-.94-.94-2.06-.94 2.06-2.06.94z\"/><path d=\"M17.41 7.96l-1.37-1.37c-.4-.4-.92-.59-1.43-.59-.52 0-1.04.2-1.43.59L10.3 9.45l-7.72 7.72c-.78.78-.78 2.05 0 2.83L4 21.41c.39.39.9.59 1.41.59.51 0 1.02-.2 1.41-.59l7.78-7.78 2.81-2.81c.8-.78.8-2.07 0-2.86zM5.41 20L4 18.59l7.72-7.72 1.47 1.35L5.41 20z\"/>\n",
              "  </svg>\n",
              "      </button>\n",
              "      \n",
              "  <style>\n",
              "    .colab-df-container {\n",
              "      display:flex;\n",
              "      flex-wrap:wrap;\n",
              "      gap: 12px;\n",
              "    }\n",
              "\n",
              "    .colab-df-convert {\n",
              "      background-color: #E8F0FE;\n",
              "      border: none;\n",
              "      border-radius: 50%;\n",
              "      cursor: pointer;\n",
              "      display: none;\n",
              "      fill: #1967D2;\n",
              "      height: 32px;\n",
              "      padding: 0 0 0 0;\n",
              "      width: 32px;\n",
              "    }\n",
              "\n",
              "    .colab-df-convert:hover {\n",
              "      background-color: #E2EBFA;\n",
              "      box-shadow: 0px 1px 2px rgba(60, 64, 67, 0.3), 0px 1px 3px 1px rgba(60, 64, 67, 0.15);\n",
              "      fill: #174EA6;\n",
              "    }\n",
              "\n",
              "    [theme=dark] .colab-df-convert {\n",
              "      background-color: #3B4455;\n",
              "      fill: #D2E3FC;\n",
              "    }\n",
              "\n",
              "    [theme=dark] .colab-df-convert:hover {\n",
              "      background-color: #434B5C;\n",
              "      box-shadow: 0px 1px 3px 1px rgba(0, 0, 0, 0.15);\n",
              "      filter: drop-shadow(0px 1px 2px rgba(0, 0, 0, 0.3));\n",
              "      fill: #FFFFFF;\n",
              "    }\n",
              "  </style>\n",
              "\n",
              "      <script>\n",
              "        const buttonEl =\n",
              "          document.querySelector('#df-0157da0e-ab6d-48fe-acdb-831fd397e143 button.colab-df-convert');\n",
              "        buttonEl.style.display =\n",
              "          google.colab.kernel.accessAllowed ? 'block' : 'none';\n",
              "\n",
              "        async function convertToInteractive(key) {\n",
              "          const element = document.querySelector('#df-0157da0e-ab6d-48fe-acdb-831fd397e143');\n",
              "          const dataTable =\n",
              "            await google.colab.kernel.invokeFunction('convertToInteractive',\n",
              "                                                     [key], {});\n",
              "          if (!dataTable) return;\n",
              "\n",
              "          const docLinkHtml = 'Like what you see? Visit the ' +\n",
              "            '<a target=\"_blank\" href=https://colab.research.google.com/notebooks/data_table.ipynb>data table notebook</a>'\n",
              "            + ' to learn more about interactive tables.';\n",
              "          element.innerHTML = '';\n",
              "          dataTable['output_type'] = 'display_data';\n",
              "          await google.colab.output.renderOutput(dataTable, element);\n",
              "          const docLink = document.createElement('div');\n",
              "          docLink.innerHTML = docLinkHtml;\n",
              "          element.appendChild(docLink);\n",
              "        }\n",
              "      </script>\n",
              "    </div>\n",
              "  </div>\n",
              "  "
            ]
          },
          "metadata": {},
          "execution_count": 3
        }
      ]
    },
    {
      "cell_type": "markdown",
      "source": [
        "## ***III. Structure Investigation***"
      ],
      "metadata": {
        "id": "7gTj1rMfJFrQ"
      }
    },
    {
      "cell_type": "code",
      "source": [
        "#Show columns of the data\n",
        "banks6.columns"
      ],
      "metadata": {
        "colab": {
          "base_uri": "https://localhost:8080/"
        },
        "id": "2VurgooWJOB_",
        "outputId": "0c11bb8e-1682-45b3-cc7a-eedbfab69feb"
      },
      "execution_count": null,
      "outputs": [
        {
          "output_type": "execute_result",
          "data": {
            "text/plain": [
              "Index(['age', 'job', 'marital', 'education', 'default', 'balance', 'housing',\n",
              "       'loan', 'contact', 'day', 'month', 'duration', 'campaign', 'pdays',\n",
              "       'previous', 'poutcome', 'y'],\n",
              "      dtype='object')"
            ]
          },
          "metadata": {},
          "execution_count": 4
        }
      ]
    },
    {
      "cell_type": "code",
      "source": [
        "#Show size of the dataset\n",
        "banks6.shape"
      ],
      "metadata": {
        "colab": {
          "base_uri": "https://localhost:8080/"
        },
        "id": "X86ndJyZJPZh",
        "outputId": "f1752e0f-0048-4d7a-ba6a-bedf414d0163"
      },
      "execution_count": null,
      "outputs": [
        {
          "output_type": "execute_result",
          "data": {
            "text/plain": [
              "(45211, 17)"
            ]
          },
          "metadata": {},
          "execution_count": 5
        }
      ]
    },
    {
      "cell_type": "code",
      "source": [
        "#Show dataframe information\n",
        "banks6.info()"
      ],
      "metadata": {
        "colab": {
          "base_uri": "https://localhost:8080/"
        },
        "id": "AAVW__H-rS81",
        "outputId": "d50a72eb-f913-4387-f822-bb81534737e8"
      },
      "execution_count": null,
      "outputs": [
        {
          "output_type": "stream",
          "name": "stdout",
          "text": [
            "<class 'pandas.core.frame.DataFrame'>\n",
            "RangeIndex: 45211 entries, 0 to 45210\n",
            "Data columns (total 17 columns):\n",
            " #   Column     Non-Null Count  Dtype \n",
            "---  ------     --------------  ----- \n",
            " 0   age        45211 non-null  int64 \n",
            " 1   job        45211 non-null  object\n",
            " 2   marital    45211 non-null  object\n",
            " 3   education  45211 non-null  object\n",
            " 4   default    45211 non-null  object\n",
            " 5   balance    45211 non-null  int64 \n",
            " 6   housing    45211 non-null  object\n",
            " 7   loan       45211 non-null  object\n",
            " 8   contact    45211 non-null  object\n",
            " 9   day        45211 non-null  int64 \n",
            " 10  month      45211 non-null  object\n",
            " 11  duration   45211 non-null  int64 \n",
            " 12  campaign   45211 non-null  int64 \n",
            " 13  pdays      45211 non-null  int64 \n",
            " 14  previous   45211 non-null  int64 \n",
            " 15  poutcome   45211 non-null  object\n",
            " 16  y          45211 non-null  object\n",
            "dtypes: int64(7), object(10)\n",
            "memory usage: 5.9+ MB\n"
          ]
        }
      ]
    },
    {
      "cell_type": "code",
      "source": [
        "#Count how many times each data type is present in the dataset\n",
        "pd.value_counts(banks6.dtypes)"
      ],
      "metadata": {
        "colab": {
          "base_uri": "https://localhost:8080/"
        },
        "id": "zDR2i_XvJQ2V",
        "outputId": "571febee-4764-4b0b-c0e7-90973848c936"
      },
      "execution_count": null,
      "outputs": [
        {
          "output_type": "execute_result",
          "data": {
            "text/plain": [
              "object    10\n",
              "int64      7\n",
              "dtype: int64"
            ]
          },
          "metadata": {},
          "execution_count": 7
        }
      ]
    },
    {
      "cell_type": "code",
      "source": [
        "#Show the number of null values per variable\n",
        "banks6.isnull().sum()"
      ],
      "metadata": {
        "colab": {
          "base_uri": "https://localhost:8080/"
        },
        "id": "vBH9-kdUJUvQ",
        "outputId": "75b9f8d4-1eab-4ef3-8241-991987d77b1c"
      },
      "execution_count": null,
      "outputs": [
        {
          "output_type": "execute_result",
          "data": {
            "text/plain": [
              "age          0\n",
              "job          0\n",
              "marital      0\n",
              "education    0\n",
              "default      0\n",
              "balance      0\n",
              "housing      0\n",
              "loan         0\n",
              "contact      0\n",
              "day          0\n",
              "month        0\n",
              "duration     0\n",
              "campaign     0\n",
              "pdays        0\n",
              "previous     0\n",
              "poutcome     0\n",
              "y            0\n",
              "dtype: int64"
            ]
          },
          "metadata": {},
          "execution_count": 8
        }
      ]
    },
    {
      "cell_type": "markdown",
      "source": [
        "## *a. Dealing with outliers*"
      ],
      "metadata": {
        "id": "Y8563hN79hFW"
      }
    },
    {
      "cell_type": "code",
      "source": [
        "#Checking for outliers in dataset\n",
        "plt.figure(figsize=(14,10))\n",
        "banks6.boxplot()\n",
        "plt.title(\"Boxplot of the dataframe\", fontsize = 15)\n",
        "print()"
      ],
      "metadata": {
        "colab": {
          "base_uri": "https://localhost:8080/",
          "height": 626
        },
        "id": "LmADyKkO9jV7",
        "outputId": "ed06cb53-5f9d-4a0c-99a6-8c2e07218142"
      },
      "execution_count": null,
      "outputs": [
        {
          "output_type": "stream",
          "name": "stdout",
          "text": [
            "\n"
          ]
        },
        {
          "output_type": "display_data",
          "data": {
            "text/plain": [
              "<Figure size 1008x720 with 1 Axes>"
            ],
            "image/png": "[encoded data removed]"
          },
          "metadata": {
            "needs_background": "light"
          }
        }
      ]
    },
    {
      "cell_type": "markdown",
      "source": [
        "### *i. balance*"
      ],
      "metadata": {
        "id": "Onld0QGP-3GL"
      }
    },
    {
      "cell_type": "code",
      "source": [
        "#Looking inside balance variable boxplot\n",
        "plt.figure(figsize=(8, 4))\n",
        "sns.boxplot(x=banks6['balance'])\n",
        "plt.show()"
      ],
      "metadata": {
        "colab": {
          "base_uri": "https://localhost:8080/",
          "height": 279
        },
        "id": "RZPxXELc-6Fy",
        "outputId": "c50f00c3-a7e5-4fb8-e62d-fd8b2ced93c3"
      },
      "execution_count": null,
      "outputs": [
        {
          "output_type": "display_data",
          "data": {
            "text/plain": [
              "<Figure size 576x288 with 1 Axes>"
            ],
            "image/png": "[encoded data removed]"
          },
          "metadata": {
            "needs_background": "light"
          }
        }
      ]
    },
    {
      "cell_type": "code",
      "source": [
        "for x in ['balance']:\n",
        "    q75,q25 = np.percentile(banks6.loc[:,x],[75,25])\n",
        "    intr_qr = q75-q25\n",
        " \n",
        "    max = q75+(1.5*intr_qr)\n",
        "    min = q25-(1.5*intr_qr)\n",
        " \n",
        "    banks6.loc[banks6[x] < min,x] = np.nan\n",
        "    banks6.loc[banks6[x] > max,x] = np.nan"
      ],
      "metadata": {
        "id": "agScft9tGXft"
      },
      "execution_count": null,
      "outputs": []
    },
    {
      "cell_type": "markdown",
      "source": [
        "### *ii. age*"
      ],
      "metadata": {
        "id": "xWCMQp5qLMzc"
      }
    },
    {
      "cell_type": "code",
      "source": [
        "#Looking inside age variable boxplot\n",
        "plt.figure(figsize=(8, 4))\n",
        "sns.boxplot(x=banks6['age'])\n",
        "plt.show()"
      ],
      "metadata": {
        "colab": {
          "base_uri": "https://localhost:8080/",
          "height": 279
        },
        "id": "wrPa2C-RSp69",
        "outputId": "787790a4-9602-4165-87e1-b4624df07a17"
      },
      "execution_count": null,
      "outputs": [
        {
          "output_type": "display_data",
          "data": {
            "text/plain": [
              "<Figure size 576x288 with 1 Axes>"
            ],
            "image/png": "[encoded data removed]"
          },
          "metadata": {
            "needs_background": "light"
          }
        }
      ]
    },
    {
      "cell_type": "code",
      "source": [
        "for y in ['age']:\n",
        "    q75_age,q25_age = np.percentile(banks6.loc[:,y],[75,25])\n",
        "    intr_qr_age = q75_age-q25_age\n",
        " \n",
        "    max_age = q75_age+(1.5*intr_qr_age)\n",
        "    min_age = q25_age-(1.5*intr_qr_age)\n",
        " \n",
        "    banks6.loc[banks6[y] < min_age,y] = np.nan\n",
        "    banks6.loc[banks6[y] > max_age,y] = np.nan"
      ],
      "metadata": {
        "id": "sHe2PFJ8LLiq"
      },
      "execution_count": null,
      "outputs": []
    },
    {
      "cell_type": "markdown",
      "source": [
        "### *iii. campaign*"
      ],
      "metadata": {
        "id": "ZRMcyMqzLmOw"
      }
    },
    {
      "cell_type": "code",
      "source": [
        "#Looking inside campaign variable boxplot\n",
        "plt.figure(figsize=(8, 4))\n",
        "sns.boxplot(x=banks6['campaign'])\n",
        "plt.show()"
      ],
      "metadata": {
        "colab": {
          "base_uri": "https://localhost:8080/",
          "height": 279
        },
        "id": "N-h4n22dTOdr",
        "outputId": "0db0d701-8a88-49df-832d-75adf607398d"
      },
      "execution_count": null,
      "outputs": [
        {
          "output_type": "display_data",
          "data": {
            "text/plain": [
              "<Figure size 576x288 with 1 Axes>"
            ],
            "image/png": "[encoded data removed]"
          },
          "metadata": {
            "needs_background": "light"
          }
        }
      ]
    },
    {
      "cell_type": "code",
      "source": [
        "for z in ['campaign']:\n",
        "    q75_c,q25_c = np.percentile(banks6.loc[:,z],[75,25])\n",
        "    intr_qr_c = q75_c-q25_c\n",
        " \n",
        "    max_c = q75_c+(1.5*intr_qr_c)\n",
        "    min_c = q25_c-(1.5*intr_qr_c)\n",
        " \n",
        "    banks6.loc[banks6[z] < min_c,z] = np.nan\n",
        "    banks6.loc[banks6[z] > max_c,z] = np.nan"
      ],
      "metadata": {
        "id": "oL7WWDDOLo4D"
      },
      "execution_count": null,
      "outputs": []
    },
    {
      "cell_type": "code",
      "source": [
        "#Show the number of null values per variable\n",
        "banks6.isnull().sum()"
      ],
      "metadata": {
        "colab": {
          "base_uri": "https://localhost:8080/"
        },
        "id": "apLtWyM-Gpcl",
        "outputId": "d6938fda-291f-487e-ce2e-8dc0e561c289"
      },
      "execution_count": null,
      "outputs": [
        {
          "output_type": "execute_result",
          "data": {
            "text/plain": [
              "age           487\n",
              "job             0\n",
              "marital         0\n",
              "education       0\n",
              "default         0\n",
              "balance      4729\n",
              "housing         0\n",
              "loan            0\n",
              "contact         0\n",
              "day             0\n",
              "month           0\n",
              "duration        0\n",
              "campaign     3064\n",
              "pdays           0\n",
              "previous        0\n",
              "poutcome        0\n",
              "y               0\n",
              "dtype: int64"
            ]
          },
          "metadata": {},
          "execution_count": 16
        }
      ]
    },
    {
      "cell_type": "code",
      "source": [
        "#Dropping the rows will null values \n",
        "banks6 = banks6.dropna(axis = 0)"
      ],
      "metadata": {
        "id": "-OZ6BknnGtrl"
      },
      "execution_count": null,
      "outputs": []
    },
    {
      "cell_type": "code",
      "source": [
        "#Rechecking if there are still null values\n",
        "banks6.isnull().sum()"
      ],
      "metadata": {
        "colab": {
          "base_uri": "https://localhost:8080/"
        },
        "id": "3SLacLAqGxU3",
        "outputId": "dca5b29a-f10d-437f-b079-8cc69d574fa9"
      },
      "execution_count": null,
      "outputs": [
        {
          "output_type": "execute_result",
          "data": {
            "text/plain": [
              "age          0\n",
              "job          0\n",
              "marital      0\n",
              "education    0\n",
              "default      0\n",
              "balance      0\n",
              "housing      0\n",
              "loan         0\n",
              "contact      0\n",
              "day          0\n",
              "month        0\n",
              "duration     0\n",
              "campaign     0\n",
              "pdays        0\n",
              "previous     0\n",
              "poutcome     0\n",
              "y            0\n",
              "dtype: int64"
            ]
          },
          "metadata": {},
          "execution_count": 18
        }
      ]
    },
    {
      "cell_type": "markdown",
      "source": [
        "### *iv. duration*"
      ],
      "metadata": {
        "id": "6t_bLLzQHcmg"
      }
    },
    {
      "cell_type": "markdown",
      "source": [
        "We can drop the 'duration' variable as the value of the variable will only be known at the end of the call. In order to make the prediction model more realistic."
      ],
      "metadata": {
        "id": "8ndCowXZHhSr"
      }
    },
    {
      "cell_type": "code",
      "source": [
        "#Dropping the variable 'duration'\n",
        "banks6 = banks6.drop(['duration'], axis=1)"
      ],
      "metadata": {
        "id": "xhfW9MueH3lG"
      },
      "execution_count": null,
      "outputs": []
    },
    {
      "cell_type": "markdown",
      "source": [
        "## *b. Imputing missing values*"
      ],
      "metadata": {
        "id": "_nv43fT6NZ6W"
      }
    },
    {
      "cell_type": "markdown",
      "source": [
        "### *i. job*"
      ],
      "metadata": {
        "id": "cMz_fpI5PpXT"
      }
    },
    {
      "cell_type": "code",
      "source": [
        "#Percentages of each value under the variable 'job'\n",
        "banks6['job'].value_counts(normalize=True) * 100"
      ],
      "metadata": {
        "id": "7DCnnaioJxUE",
        "colab": {
          "base_uri": "https://localhost:8080/"
        },
        "outputId": "176da329-5b2c-43c3-de13-63b2e06ac21a"
      },
      "execution_count": null,
      "outputs": [
        {
          "output_type": "execute_result",
          "data": {
            "text/plain": [
              "blue-collar      22.334074\n",
              "management       20.160103\n",
              "technician       16.941983\n",
              "admin.           11.860459\n",
              "services          9.595459\n",
              "retired           4.050762\n",
              "self-employed     3.421595\n",
              "entrepreneur      3.290407\n",
              "unemployed        2.931648\n",
              "housemaid         2.685336\n",
              "student           2.160585\n",
              "unknown           0.567589\n",
              "Name: job, dtype: float64"
            ]
          },
          "metadata": {},
          "execution_count": 20
        }
      ]
    },
    {
      "cell_type": "code",
      "source": [
        "#Imputing 'unknown' (considered missing) data\n",
        "#Replaced 'unknown' data into 'blue-collar' since 'blue-collar' data is the mode\n",
        "banks6['job'] = banks6['job'].replace('unknown', 'blue-collar')"
      ],
      "metadata": {
        "id": "xZXR7y1xd43L"
      },
      "execution_count": null,
      "outputs": []
    },
    {
      "cell_type": "code",
      "source": [
        "#Checking the different types of job\n",
        "banks6['job'].head(15)"
      ],
      "metadata": {
        "colab": {
          "base_uri": "https://localhost:8080/"
        },
        "id": "XnVqF_C3eaLO",
        "outputId": "64e16478-2fc9-4d35-844f-b52ef1b579a3"
      },
      "execution_count": null,
      "outputs": [
        {
          "output_type": "execute_result",
          "data": {
            "text/plain": [
              "0       management\n",
              "1       technician\n",
              "2     entrepreneur\n",
              "3      blue-collar\n",
              "4      blue-collar\n",
              "5       management\n",
              "6       management\n",
              "7     entrepreneur\n",
              "8          retired\n",
              "9       technician\n",
              "10          admin.\n",
              "11          admin.\n",
              "12      technician\n",
              "13      technician\n",
              "14        services\n",
              "Name: job, dtype: object"
            ]
          },
          "metadata": {},
          "execution_count": 22
        }
      ]
    },
    {
      "cell_type": "code",
      "source": [
        "#Renaming 'admin.' into 'admin' (removed the dot) to make the data look cleaner\n",
        "banks6['job'] = banks6['job'].replace('admin.', 'admin')"
      ],
      "metadata": {
        "id": "InL8b8MyfsO_"
      },
      "execution_count": null,
      "outputs": []
    },
    {
      "cell_type": "code",
      "source": [
        "banks6['job'].head(15)"
      ],
      "metadata": {
        "colab": {
          "base_uri": "https://localhost:8080/"
        },
        "id": "SpbafzNZfwYf",
        "outputId": "2078ee00-3355-4bea-ffa0-6055cc8057ef"
      },
      "execution_count": null,
      "outputs": [
        {
          "output_type": "execute_result",
          "data": {
            "text/plain": [
              "0       management\n",
              "1       technician\n",
              "2     entrepreneur\n",
              "3      blue-collar\n",
              "4      blue-collar\n",
              "5       management\n",
              "6       management\n",
              "7     entrepreneur\n",
              "8          retired\n",
              "9       technician\n",
              "10           admin\n",
              "11           admin\n",
              "12      technician\n",
              "13      technician\n",
              "14        services\n",
              "Name: job, dtype: object"
            ]
          },
          "metadata": {},
          "execution_count": 24
        }
      ]
    },
    {
      "cell_type": "markdown",
      "source": [
        "### *ii. education*"
      ],
      "metadata": {
        "id": "nz_QOENDf_gB"
      }
    },
    {
      "cell_type": "code",
      "source": [
        "#Percentages of each value under the variable 'education'\n",
        "banks6['education'].value_counts(normalize=True) * 100"
      ],
      "metadata": {
        "colab": {
          "base_uri": "https://localhost:8080/"
        },
        "id": "g2qKYxy1gBga",
        "outputId": "9642a3b7-ea85-49cd-a0cc-55c8c40c8cb3"
      },
      "execution_count": null,
      "outputs": [
        {
          "output_type": "execute_result",
          "data": {
            "text/plain": [
              "secondary    52.831249\n",
              "tertiary     28.349977\n",
              "primary      14.891168\n",
              "unknown       3.927606\n",
              "Name: education, dtype: float64"
            ]
          },
          "metadata": {},
          "execution_count": 25
        }
      ]
    },
    {
      "cell_type": "code",
      "source": [
        "#Checking the different types of job\n",
        "banks6['education'].head(15)"
      ],
      "metadata": {
        "colab": {
          "base_uri": "https://localhost:8080/"
        },
        "id": "pKoYXMZOQEle",
        "outputId": "c35a2c7d-18ce-4b13-e9bd-d67dbed5b24f"
      },
      "execution_count": null,
      "outputs": [
        {
          "output_type": "execute_result",
          "data": {
            "text/plain": [
              "0      tertiary\n",
              "1     secondary\n",
              "2     secondary\n",
              "3     secondary\n",
              "4     secondary\n",
              "5      tertiary\n",
              "6      tertiary\n",
              "7      tertiary\n",
              "8       primary\n",
              "9     secondary\n",
              "10    secondary\n",
              "11    secondary\n",
              "12    secondary\n",
              "13    secondary\n",
              "14    secondary\n",
              "Name: education, dtype: object"
            ]
          },
          "metadata": {},
          "execution_count": 27
        }
      ]
    },
    {
      "cell_type": "code",
      "source": [
        "#Imputing 'unknown' (considered missing) data\n",
        "#Replaced 'unknown' data into 'secondary' since 'secondary' data is the mode\n",
        "banks6['education'] = banks6['education'].replace('unknown', 'secondary')"
      ],
      "metadata": {
        "id": "nGLgDTRFgRzq"
      },
      "execution_count": null,
      "outputs": []
    },
    {
      "cell_type": "code",
      "source": [
        "banks6['education'].head(15)"
      ],
      "metadata": {
        "colab": {
          "base_uri": "https://localhost:8080/"
        },
        "id": "VwVCLRnagXId",
        "outputId": "ea19d037-db1c-49fb-b3a7-552e6995cc54"
      },
      "execution_count": null,
      "outputs": [
        {
          "output_type": "execute_result",
          "data": {
            "text/plain": [
              "0      tertiary\n",
              "1     secondary\n",
              "2     secondary\n",
              "3     secondary\n",
              "4     secondary\n",
              "5      tertiary\n",
              "6      tertiary\n",
              "7      tertiary\n",
              "8       primary\n",
              "9     secondary\n",
              "10    secondary\n",
              "11    secondary\n",
              "12    secondary\n",
              "13    secondary\n",
              "14    secondary\n",
              "Name: education, dtype: object"
            ]
          },
          "metadata": {},
          "execution_count": 28
        }
      ]
    },
    {
      "cell_type": "markdown",
      "source": [
        "### *iii. contact*"
      ],
      "metadata": {
        "id": "3A31mbkthItE"
      }
    },
    {
      "cell_type": "code",
      "source": [
        "#Percentages of each value under the variable 'contact'\n",
        "banks6['contact'].value_counts(normalize=True) * 100"
      ],
      "metadata": {
        "colab": {
          "base_uri": "https://localhost:8080/"
        },
        "id": "zMUm-_Suleqz",
        "outputId": "0c7753b2-660e-4662-db5f-5054d9a6be56"
      },
      "execution_count": null,
      "outputs": [
        {
          "output_type": "execute_result",
          "data": {
            "text/plain": [
              "cellular     65.053144\n",
              "unknown      29.514605\n",
              "telephone     5.432251\n",
              "Name: contact, dtype: float64"
            ]
          },
          "metadata": {},
          "execution_count": 29
        }
      ]
    },
    {
      "cell_type": "code",
      "source": [
        "#Imputing 'unknown' (considered missing) data\n",
        "#Replaced 'unknown' data into 'no\n",
        "banks6['contact'] = banks6['contact'].replace('unknown', 'no')"
      ],
      "metadata": {
        "id": "AiHZDcqymA3Z"
      },
      "execution_count": null,
      "outputs": []
    },
    {
      "cell_type": "code",
      "source": [
        "#Investigating 'unknown' values\n",
        "print(\"# Missing value 'age' variable: {0}\".format(len(banks6.loc[banks6['age'] == \"unknown\"])))\n",
        "print(\"# Missing value 'job' variable: {0}\".format(len(banks6.loc[banks6['job'] == \"unknown\"])))\n",
        "print(\"# Missing value 'marital' variable: {0}\".format(len(banks6.loc[banks6['marital'] == \"unknown\"])))\n",
        "print(\"# Missing value 'education' variable: {0}\".format(len(banks6.loc[banks6['education'] == \"unknown\"])))\n",
        "print(\"# Missing value 'default' variable: {0}\".format(len(banks6.loc[banks6['default'] == \"unknown\"])))\n",
        "print(\"# Missing value 'balance' variable: {0}\".format(len(banks6.loc[banks6['balance'] == \"unknown\"])))\n",
        "print(\"# Missing value 'housing' variable: {0}\".format(len(banks6.loc[banks6['housing'] == \"unknown\"])))\n",
        "print(\"# Missing value 'loan' variable: {0}\".format(len(banks6.loc[banks6['loan'] == \"unknown\"])))\n",
        "print(\"# Missing value 'contact' variable: {0}\".format(len(banks6.loc[banks6['contact'] == \"unknown\"])))\n",
        "print(\"# Missing value 'day' variable: {0}\".format(len(banks6.loc[banks6['day'] == \"unknown\"])))\n",
        "print(\"# Missing value 'month' variable: {0}\".format(len(banks6.loc[banks6['month'] == \"unknown\"])))\n",
        "print(\"# Missing value 'campaign' variable: {0}\".format(len(banks6.loc[banks6['campaign'] == \"unknown\"])))\n",
        "print(\"# Missing value 'pdays' variable: {0}\".format(len(banks6.loc[banks6['pdays'] == \"unknown\"])))\n",
        "print(\"# Missing value 'previous' variable: {0}\".format(len(banks6.loc[banks6['previous'] == \"unknown\"])))\n",
        "print(\"# Missing value 'poutcome' variable: {0}\".format(len(banks6.loc[banks6['poutcome'] == \"unknown\"])))"
      ],
      "metadata": {
        "colab": {
          "base_uri": "https://localhost:8080/"
        },
        "id": "-wWmB4RiJoXv",
        "outputId": "be931024-1f08-42f4-cdf0-735367718fc6"
      },
      "execution_count": null,
      "outputs": [
        {
          "output_type": "stream",
          "name": "stdout",
          "text": [
            "# Missing value 'age' variable: 0\n",
            "# Missing value 'job' variable: 0\n",
            "# Missing value 'marital' variable: 0\n",
            "# Missing value 'education' variable: 0\n",
            "# Missing value 'default' variable: 0\n",
            "# Missing value 'balance' variable: 0\n",
            "# Missing value 'housing' variable: 0\n",
            "# Missing value 'loan' variable: 0\n",
            "# Missing value 'contact' variable: 0\n",
            "# Missing value 'day' variable: 0\n",
            "# Missing value 'month' variable: 0\n",
            "# Missing value 'campaign' variable: 0\n",
            "# Missing value 'pdays' variable: 0\n",
            "# Missing value 'previous' variable: 0\n",
            "# Missing value 'poutcome' variable: 30409\n"
          ]
        }
      ]
    },
    {
      "cell_type": "markdown",
      "source": [
        "## *b. Dropping unnecessary column(s)*"
      ],
      "metadata": {
        "id": "t-9XtE80QoHM"
      }
    },
    {
      "cell_type": "code",
      "source": [
        "#Dropping the column 'poutcome' since \n",
        "banks6 = banks6.drop('poutcome', axis=1)"
      ],
      "metadata": {
        "id": "GBIiNc8HmoZw"
      },
      "execution_count": null,
      "outputs": []
    },
    {
      "cell_type": "code",
      "source": [
        "#Investigating 'unknown' values\n",
        "#Variable 'poutcome' dropped\n",
        "print(\"# Missing value 'age' variable: {0}\".format(len(banks6.loc[banks6['age'] == \"unknown\"])))\n",
        "print(\"# Missing value 'job' variable: {0}\".format(len(banks6.loc[banks6['job'] == \"unknown\"])))\n",
        "print(\"# Missing value 'marital' variable: {0}\".format(len(banks6.loc[banks6['marital'] == \"unknown\"])))\n",
        "print(\"# Missing value 'education' variable: {0}\".format(len(banks6.loc[banks6['education'] == \"unknown\"])))\n",
        "print(\"# Missing value 'default' variable: {0}\".format(len(banks6.loc[banks6['default'] == \"unknown\"])))\n",
        "print(\"# Missing value 'balance' variable: {0}\".format(len(banks6.loc[banks6['balance'] == \"unknown\"])))\n",
        "print(\"# Missing value 'housing' variable: {0}\".format(len(banks6.loc[banks6['housing'] == \"unknown\"])))\n",
        "print(\"# Missing value 'loan' variable: {0}\".format(len(banks6.loc[banks6['loan'] == \"unknown\"])))\n",
        "print(\"# Missing value 'contact' variable: {0}\".format(len(banks6.loc[banks6['contact'] == \"unknown\"])))\n",
        "print(\"# Missing value 'day' variable: {0}\".format(len(banks6.loc[banks6['day'] == \"unknown\"])))\n",
        "print(\"# Missing value 'month' variable: {0}\".format(len(banks6.loc[banks6['month'] == \"unknown\"])))\n",
        "print(\"# Missing value 'campaign' variable: {0}\".format(len(banks6.loc[banks6['campaign'] == \"unknown\"])))\n",
        "print(\"# Missing value 'pdays' variable: {0}\".format(len(banks6.loc[banks6['pdays'] == \"unknown\"])))\n",
        "print(\"# Missing value 'previous' variable: {0}\".format(len(banks6.loc[banks6['previous'] == \"unknown\"])))"
      ],
      "metadata": {
        "id": "Rpe5_jkTQ7qJ",
        "colab": {
          "base_uri": "https://localhost:8080/"
        },
        "outputId": "373f4359-5bee-4e18-f5f9-51dde0f7c5ea"
      },
      "execution_count": null,
      "outputs": [
        {
          "output_type": "stream",
          "name": "stdout",
          "text": [
            "# Missing value 'age' variable: 0\n",
            "# Missing value 'job' variable: 0\n",
            "# Missing value 'marital' variable: 0\n",
            "# Missing value 'education' variable: 0\n",
            "# Missing value 'default' variable: 0\n",
            "# Missing value 'balance' variable: 0\n",
            "# Missing value 'housing' variable: 0\n",
            "# Missing value 'loan' variable: 0\n",
            "# Missing value 'contact' variable: 0\n",
            "# Missing value 'day' variable: 0\n",
            "# Missing value 'month' variable: 0\n",
            "# Missing value 'campaign' variable: 0\n",
            "# Missing value 'pdays' variable: 0\n",
            "# Missing value 'previous' variable: 0\n"
          ]
        }
      ]
    },
    {
      "cell_type": "code",
      "source": [
        "#Show a summary of the data\n",
        "banks6.describe()"
      ],
      "metadata": {
        "colab": {
          "base_uri": "https://localhost:8080/",
          "height": 300
        },
        "id": "pN6cjE4bDwey",
        "outputId": "7e2cbd6b-996e-4559-d6ff-87757302b3dc"
      },
      "execution_count": null,
      "outputs": [
        {
          "output_type": "execute_result",
          "data": {
            "text/plain": [
              "                age       balance           day      campaign         pdays  \\\n",
              "count  37351.000000  37351.000000  37351.000000  37351.000000  37351.000000   \n",
              "mean      40.260475    640.288212     15.469412      2.134668     41.943509   \n",
              "std        9.936789    842.567239      8.294923      1.317279    102.984578   \n",
              "min       18.000000  -1944.000000      1.000000      1.000000     -1.000000   \n",
              "25%       32.000000     47.000000      8.000000      1.000000     -1.000000   \n",
              "50%       39.000000    350.000000     15.000000      2.000000     -1.000000   \n",
              "75%       48.000000    979.000000     21.000000      3.000000     -1.000000   \n",
              "max       70.000000   3462.000000     31.000000      6.000000    871.000000   \n",
              "\n",
              "           previous  \n",
              "count  37351.000000  \n",
              "mean       0.578432  \n",
              "std        2.339453  \n",
              "min        0.000000  \n",
              "25%        0.000000  \n",
              "50%        0.000000  \n",
              "75%        0.000000  \n",
              "max      275.000000  "
            ],
            "text/html": [
              "\n",
              "  <div id=\"df-f23698ac-e136-4022-9e38-812e35a50f57\">\n",
              "    <div class=\"colab-df-container\">\n",
              "      <div>\n",
              "<style scoped>\n",
              "    .dataframe tbody tr th:only-of-type {\n",
              "        vertical-align: middle;\n",
              "    }\n",
              "\n",
              "    .dataframe tbody tr th {\n",
              "        vertical-align: top;\n",
              "    }\n",
              "\n",
              "    .dataframe thead th {\n",
              "        text-align: right;\n",
              "    }\n",
              "</style>\n",
              "<table border=\"1\" class=\"dataframe\">\n",
              "  <thead>\n",
              "    <tr style=\"text-align: right;\">\n",
              "      <th></th>\n",
              "      <th>age</th>\n",
              "      <th>balance</th>\n",
              "      <th>day</th>\n",
              "      <th>campaign</th>\n",
              "      <th>pdays</th>\n",
              "      <th>previous</th>\n",
              "    </tr>\n",
              "  </thead>\n",
              "  <tbody>\n",
              "    <tr>\n",
              "      <th>count</th>\n",
              "      <td>37351.000000</td>\n",
              "      <td>37351.000000</td>\n",
              "      <td>37351.000000</td>\n",
              "      <td>37351.000000</td>\n",
              "      <td>37351.000000</td>\n",
              "      <td>37351.000000</td>\n",
              "    </tr>\n",
              "    <tr>\n",
              "      <th>mean</th>\n",
              "      <td>40.260475</td>\n",
              "      <td>640.288212</td>\n",
              "      <td>15.469412</td>\n",
              "      <td>2.134668</td>\n",
              "      <td>41.943509</td>\n",
              "      <td>0.578432</td>\n",
              "    </tr>\n",
              "    <tr>\n",
              "      <th>std</th>\n",
              "      <td>9.936789</td>\n",
              "      <td>842.567239</td>\n",
              "      <td>8.294923</td>\n",
              "      <td>1.317279</td>\n",
              "      <td>102.984578</td>\n",
              "      <td>2.339453</td>\n",
              "    </tr>\n",
              "    <tr>\n",
              "      <th>min</th>\n",
              "      <td>18.000000</td>\n",
              "      <td>-1944.000000</td>\n",
              "      <td>1.000000</td>\n",
              "      <td>1.000000</td>\n",
              "      <td>-1.000000</td>\n",
              "      <td>0.000000</td>\n",
              "    </tr>\n",
              "    <tr>\n",
              "      <th>25%</th>\n",
              "      <td>32.000000</td>\n",
              "      <td>47.000000</td>\n",
              "      <td>8.000000</td>\n",
              "      <td>1.000000</td>\n",
              "      <td>-1.000000</td>\n",
              "      <td>0.000000</td>\n",
              "    </tr>\n",
              "    <tr>\n",
              "      <th>50%</th>\n",
              "      <td>39.000000</td>\n",
              "      <td>350.000000</td>\n",
              "      <td>15.000000</td>\n",
              "      <td>2.000000</td>\n",
              "      <td>-1.000000</td>\n",
              "      <td>0.000000</td>\n",
              "    </tr>\n",
              "    <tr>\n",
              "      <th>75%</th>\n",
              "      <td>48.000000</td>\n",
              "      <td>979.000000</td>\n",
              "      <td>21.000000</td>\n",
              "      <td>3.000000</td>\n",
              "      <td>-1.000000</td>\n",
              "      <td>0.000000</td>\n",
              "    </tr>\n",
              "    <tr>\n",
              "      <th>max</th>\n",
              "      <td>70.000000</td>\n",
              "      <td>3462.000000</td>\n",
              "      <td>31.000000</td>\n",
              "      <td>6.000000</td>\n",
              "      <td>871.000000</td>\n",
              "      <td>275.000000</td>\n",
              "    </tr>\n",
              "  </tbody>\n",
              "</table>\n",
              "</div>\n",
              "      <button class=\"colab-df-convert\" onclick=\"convertToInteractive('df-f23698ac-e136-4022-9e38-812e35a50f57')\"\n",
              "              title=\"Convert this dataframe to an interactive table.\"\n",
              "              style=\"display:none;\">\n",
              "        \n",
              "  <svg xmlns=\"http://www.w3.org/2000/svg\" height=\"24px\"viewBox=\"0 0 24 24\"\n",
              "       width=\"24px\">\n",
              "    <path d=\"M0 0h24v24H0V0z\" fill=\"none\"/>\n",
              "    <path d=\"M18.56 5.44l.94 2.06.94-2.06 2.06-.94-2.06-.94-.94-2.06-.94 2.06-2.06.94zm-11 1L8.5 8.5l.94-2.06 2.06-.94-2.06-.94L8.5 2.5l-.94 2.06-2.06.94zm10 10l.94 2.06.94-2.06 2.06-.94-2.06-.94-.94-2.06-.94 2.06-2.06.94z\"/><path d=\"M17.41 7.96l-1.37-1.37c-.4-.4-.92-.59-1.43-.59-.52 0-1.04.2-1.43.59L10.3 9.45l-7.72 7.72c-.78.78-.78 2.05 0 2.83L4 21.41c.39.39.9.59 1.41.59.51 0 1.02-.2 1.41-.59l7.78-7.78 2.81-2.81c.8-.78.8-2.07 0-2.86zM5.41 20L4 18.59l7.72-7.72 1.47 1.35L5.41 20z\"/>\n",
              "  </svg>\n",
              "      </button>\n",
              "      \n",
              "  <style>\n",
              "    .colab-df-container {\n",
              "      display:flex;\n",
              "      flex-wrap:wrap;\n",
              "      gap: 12px;\n",
              "    }\n",
              "\n",
              "    .colab-df-convert {\n",
              "      background-color: #E8F0FE;\n",
              "      border: none;\n",
              "      border-radius: 50%;\n",
              "      cursor: pointer;\n",
              "      display: none;\n",
              "      fill: #1967D2;\n",
              "      height: 32px;\n",
              "      padding: 0 0 0 0;\n",
              "      width: 32px;\n",
              "    }\n",
              "\n",
              "    .colab-df-convert:hover {\n",
              "      background-color: #E2EBFA;\n",
              "      box-shadow: 0px 1px 2px rgba(60, 64, 67, 0.3), 0px 1px 3px 1px rgba(60, 64, 67, 0.15);\n",
              "      fill: #174EA6;\n",
              "    }\n",
              "\n",
              "    [theme=dark] .colab-df-convert {\n",
              "      background-color: #3B4455;\n",
              "      fill: #D2E3FC;\n",
              "    }\n",
              "\n",
              "    [theme=dark] .colab-df-convert:hover {\n",
              "      background-color: #434B5C;\n",
              "      box-shadow: 0px 1px 3px 1px rgba(0, 0, 0, 0.15);\n",
              "      filter: drop-shadow(0px 1px 2px rgba(0, 0, 0, 0.3));\n",
              "      fill: #FFFFFF;\n",
              "    }\n",
              "  </style>\n",
              "\n",
              "      <script>\n",
              "        const buttonEl =\n",
              "          document.querySelector('#df-f23698ac-e136-4022-9e38-812e35a50f57 button.colab-df-convert');\n",
              "        buttonEl.style.display =\n",
              "          google.colab.kernel.accessAllowed ? 'block' : 'none';\n",
              "\n",
              "        async function convertToInteractive(key) {\n",
              "          const element = document.querySelector('#df-f23698ac-e136-4022-9e38-812e35a50f57');\n",
              "          const dataTable =\n",
              "            await google.colab.kernel.invokeFunction('convertToInteractive',\n",
              "                                                     [key], {});\n",
              "          if (!dataTable) return;\n",
              "\n",
              "          const docLinkHtml = 'Like what you see? Visit the ' +\n",
              "            '<a target=\"_blank\" href=https://colab.research.google.com/notebooks/data_table.ipynb>data table notebook</a>'\n",
              "            + ' to learn more about interactive tables.';\n",
              "          element.innerHTML = '';\n",
              "          dataTable['output_type'] = 'display_data';\n",
              "          await google.colab.output.renderOutput(dataTable, element);\n",
              "          const docLink = document.createElement('div');\n",
              "          docLink.innerHTML = docLinkHtml;\n",
              "          element.appendChild(docLink);\n",
              "        }\n",
              "      </script>\n",
              "    </div>\n",
              "  </div>\n",
              "  "
            ]
          },
          "metadata": {},
          "execution_count": 35
        }
      ]
    },
    {
      "cell_type": "code",
      "source": [
        "#Summary of the dataframe\n",
        "banks6.head(15)"
      ],
      "metadata": {
        "colab": {
          "base_uri": "https://localhost:8080/",
          "height": 520
        },
        "id": "qOb96gTRAdHJ",
        "outputId": "488fab0f-c2c1-4600-8117-127a4734af6f"
      },
      "execution_count": null,
      "outputs": [
        {
          "output_type": "execute_result",
          "data": {
            "text/plain": [
              "     age           job   marital  education default  balance housing loan  \\\n",
              "0   58.0    management   married   tertiary      no   2143.0     yes   no   \n",
              "1   44.0    technician    single  secondary      no     29.0     yes   no   \n",
              "2   33.0  entrepreneur   married  secondary      no      2.0     yes  yes   \n",
              "3   47.0   blue-collar   married  secondary      no   1506.0     yes   no   \n",
              "4   33.0   blue-collar    single  secondary      no      1.0      no   no   \n",
              "5   35.0    management   married   tertiary      no    231.0     yes   no   \n",
              "6   28.0    management    single   tertiary      no    447.0     yes  yes   \n",
              "7   42.0  entrepreneur  divorced   tertiary     yes      2.0     yes   no   \n",
              "8   58.0       retired   married    primary      no    121.0     yes   no   \n",
              "9   43.0    technician    single  secondary      no    593.0     yes   no   \n",
              "10  41.0         admin  divorced  secondary      no    270.0     yes   no   \n",
              "11  29.0         admin    single  secondary      no    390.0     yes   no   \n",
              "12  53.0    technician   married  secondary      no      6.0     yes   no   \n",
              "13  58.0    technician   married  secondary      no     71.0     yes   no   \n",
              "14  57.0      services   married  secondary      no    162.0     yes   no   \n",
              "\n",
              "   contact  day month  campaign  pdays  previous   y  \n",
              "0       no    5   may       1.0     -1         0  no  \n",
              "1       no    5   may       1.0     -1         0  no  \n",
              "2       no    5   may       1.0     -1         0  no  \n",
              "3       no    5   may       1.0     -1         0  no  \n",
              "4       no    5   may       1.0     -1         0  no  \n",
              "5       no    5   may       1.0     -1         0  no  \n",
              "6       no    5   may       1.0     -1         0  no  \n",
              "7       no    5   may       1.0     -1         0  no  \n",
              "8       no    5   may       1.0     -1         0  no  \n",
              "9       no    5   may       1.0     -1         0  no  \n",
              "10      no    5   may       1.0     -1         0  no  \n",
              "11      no    5   may       1.0     -1         0  no  \n",
              "12      no    5   may       1.0     -1         0  no  \n",
              "13      no    5   may       1.0     -1         0  no  \n",
              "14      no    5   may       1.0     -1         0  no  "
            ],
            "text/html": [
              "\n",
              "  <div id=\"df-373c1483-6113-42a0-8c33-03886413efe8\">\n",
              "    <div class=\"colab-df-container\">\n",
              "      <div>\n",
              "<style scoped>\n",
              "    .dataframe tbody tr th:only-of-type {\n",
              "        vertical-align: middle;\n",
              "    }\n",
              "\n",
              "    .dataframe tbody tr th {\n",
              "        vertical-align: top;\n",
              "    }\n",
              "\n",
              "    .dataframe thead th {\n",
              "        text-align: right;\n",
              "    }\n",
              "</style>\n",
              "<table border=\"1\" class=\"dataframe\">\n",
              "  <thead>\n",
              "    <tr style=\"text-align: right;\">\n",
              "      <th></th>\n",
              "      <th>age</th>\n",
              "      <th>job</th>\n",
              "      <th>marital</th>\n",
              "      <th>education</th>\n",
              "      <th>default</th>\n",
              "      <th>balance</th>\n",
              "      <th>housing</th>\n",
              "      <th>loan</th>\n",
              "      <th>contact</th>\n",
              "      <th>day</th>\n",
              "      <th>month</th>\n",
              "      <th>campaign</th>\n",
              "      <th>pdays</th>\n",
              "      <th>previous</th>\n",
              "      <th>y</th>\n",
              "    </tr>\n",
              "  </thead>\n",
              "  <tbody>\n",
              "    <tr>\n",
              "      <th>0</th>\n",
              "      <td>58.0</td>\n",
              "      <td>management</td>\n",
              "      <td>married</td>\n",
              "      <td>tertiary</td>\n",
              "      <td>no</td>\n",
              "      <td>2143.0</td>\n",
              "      <td>yes</td>\n",
              "      <td>no</td>\n",
              "      <td>no</td>\n",
              "      <td>5</td>\n",
              "      <td>may</td>\n",
              "      <td>1.0</td>\n",
              "      <td>-1</td>\n",
              "      <td>0</td>\n",
              "      <td>no</td>\n",
              "    </tr>\n",
              "    <tr>\n",
              "      <th>1</th>\n",
              "      <td>44.0</td>\n",
              "      <td>technician</td>\n",
              "      <td>single</td>\n",
              "      <td>secondary</td>\n",
              "      <td>no</td>\n",
              "      <td>29.0</td>\n",
              "      <td>yes</td>\n",
              "      <td>no</td>\n",
              "      <td>no</td>\n",
              "      <td>5</td>\n",
              "      <td>may</td>\n",
              "      <td>1.0</td>\n",
              "      <td>-1</td>\n",
              "      <td>0</td>\n",
              "      <td>no</td>\n",
              "    </tr>\n",
              "    <tr>\n",
              "      <th>2</th>\n",
              "      <td>33.0</td>\n",
              "      <td>entrepreneur</td>\n",
              "      <td>married</td>\n",
              "      <td>secondary</td>\n",
              "      <td>no</td>\n",
              "      <td>2.0</td>\n",
              "      <td>yes</td>\n",
              "      <td>yes</td>\n",
              "      <td>no</td>\n",
              "      <td>5</td>\n",
              "      <td>may</td>\n",
              "      <td>1.0</td>\n",
              "      <td>-1</td>\n",
              "      <td>0</td>\n",
              "      <td>no</td>\n",
              "    </tr>\n",
              "    <tr>\n",
              "      <th>3</th>\n",
              "      <td>47.0</td>\n",
              "      <td>blue-collar</td>\n",
              "      <td>married</td>\n",
              "      <td>secondary</td>\n",
              "      <td>no</td>\n",
              "      <td>1506.0</td>\n",
              "      <td>yes</td>\n",
              "      <td>no</td>\n",
              "      <td>no</td>\n",
              "      <td>5</td>\n",
              "      <td>may</td>\n",
              "      <td>1.0</td>\n",
              "      <td>-1</td>\n",
              "      <td>0</td>\n",
              "      <td>no</td>\n",
              "    </tr>\n",
              "    <tr>\n",
              "      <th>4</th>\n",
              "      <td>33.0</td>\n",
              "      <td>blue-collar</td>\n",
              "      <td>single</td>\n",
              "      <td>secondary</td>\n",
              "      <td>no</td>\n",
              "      <td>1.0</td>\n",
              "      <td>no</td>\n",
              "      <td>no</td>\n",
              "      <td>no</td>\n",
              "      <td>5</td>\n",
              "      <td>may</td>\n",
              "      <td>1.0</td>\n",
              "      <td>-1</td>\n",
              "      <td>0</td>\n",
              "      <td>no</td>\n",
              "    </tr>\n",
              "    <tr>\n",
              "      <th>5</th>\n",
              "      <td>35.0</td>\n",
              "      <td>management</td>\n",
              "      <td>married</td>\n",
              "      <td>tertiary</td>\n",
              "      <td>no</td>\n",
              "      <td>231.0</td>\n",
              "      <td>yes</td>\n",
              "      <td>no</td>\n",
              "      <td>no</td>\n",
              "      <td>5</td>\n",
              "      <td>may</td>\n",
              "      <td>1.0</td>\n",
              "      <td>-1</td>\n",
              "      <td>0</td>\n",
              "      <td>no</td>\n",
              "    </tr>\n",
              "    <tr>\n",
              "      <th>6</th>\n",
              "      <td>28.0</td>\n",
              "      <td>management</td>\n",
              "      <td>single</td>\n",
              "      <td>tertiary</td>\n",
              "      <td>no</td>\n",
              "      <td>447.0</td>\n",
              "      <td>yes</td>\n",
              "      <td>yes</td>\n",
              "      <td>no</td>\n",
              "      <td>5</td>\n",
              "      <td>may</td>\n",
              "      <td>1.0</td>\n",
              "      <td>-1</td>\n",
              "      <td>0</td>\n",
              "      <td>no</td>\n",
              "    </tr>\n",
              "    <tr>\n",
              "      <th>7</th>\n",
              "      <td>42.0</td>\n",
              "      <td>entrepreneur</td>\n",
              "      <td>divorced</td>\n",
              "      <td>tertiary</td>\n",
              "      <td>yes</td>\n",
              "      <td>2.0</td>\n",
              "      <td>yes</td>\n",
              "      <td>no</td>\n",
              "      <td>no</td>\n",
              "      <td>5</td>\n",
              "      <td>may</td>\n",
              "      <td>1.0</td>\n",
              "      <td>-1</td>\n",
              "      <td>0</td>\n",
              "      <td>no</td>\n",
              "    </tr>\n",
              "    <tr>\n",
              "      <th>8</th>\n",
              "      <td>58.0</td>\n",
              "      <td>retired</td>\n",
              "      <td>married</td>\n",
              "      <td>primary</td>\n",
              "      <td>no</td>\n",
              "      <td>121.0</td>\n",
              "      <td>yes</td>\n",
              "      <td>no</td>\n",
              "      <td>no</td>\n",
              "      <td>5</td>\n",
              "      <td>may</td>\n",
              "      <td>1.0</td>\n",
              "      <td>-1</td>\n",
              "      <td>0</td>\n",
              "      <td>no</td>\n",
              "    </tr>\n",
              "    <tr>\n",
              "      <th>9</th>\n",
              "      <td>43.0</td>\n",
              "      <td>technician</td>\n",
              "      <td>single</td>\n",
              "      <td>secondary</td>\n",
              "      <td>no</td>\n",
              "      <td>593.0</td>\n",
              "      <td>yes</td>\n",
              "      <td>no</td>\n",
              "      <td>no</td>\n",
              "      <td>5</td>\n",
              "      <td>may</td>\n",
              "      <td>1.0</td>\n",
              "      <td>-1</td>\n",
              "      <td>0</td>\n",
              "      <td>no</td>\n",
              "    </tr>\n",
              "    <tr>\n",
              "      <th>10</th>\n",
              "      <td>41.0</td>\n",
              "      <td>admin</td>\n",
              "      <td>divorced</td>\n",
              "      <td>secondary</td>\n",
              "      <td>no</td>\n",
              "      <td>270.0</td>\n",
              "      <td>yes</td>\n",
              "      <td>no</td>\n",
              "      <td>no</td>\n",
              "      <td>5</td>\n",
              "      <td>may</td>\n",
              "      <td>1.0</td>\n",
              "      <td>-1</td>\n",
              "      <td>0</td>\n",
              "      <td>no</td>\n",
              "    </tr>\n",
              "    <tr>\n",
              "      <th>11</th>\n",
              "      <td>29.0</td>\n",
              "      <td>admin</td>\n",
              "      <td>single</td>\n",
              "      <td>secondary</td>\n",
              "      <td>no</td>\n",
              "      <td>390.0</td>\n",
              "      <td>yes</td>\n",
              "      <td>no</td>\n",
              "      <td>no</td>\n",
              "      <td>5</td>\n",
              "      <td>may</td>\n",
              "      <td>1.0</td>\n",
              "      <td>-1</td>\n",
              "      <td>0</td>\n",
              "      <td>no</td>\n",
              "    </tr>\n",
              "    <tr>\n",
              "      <th>12</th>\n",
              "      <td>53.0</td>\n",
              "      <td>technician</td>\n",
              "      <td>married</td>\n",
              "      <td>secondary</td>\n",
              "      <td>no</td>\n",
              "      <td>6.0</td>\n",
              "      <td>yes</td>\n",
              "      <td>no</td>\n",
              "      <td>no</td>\n",
              "      <td>5</td>\n",
              "      <td>may</td>\n",
              "      <td>1.0</td>\n",
              "      <td>-1</td>\n",
              "      <td>0</td>\n",
              "      <td>no</td>\n",
              "    </tr>\n",
              "    <tr>\n",
              "      <th>13</th>\n",
              "      <td>58.0</td>\n",
              "      <td>technician</td>\n",
              "      <td>married</td>\n",
              "      <td>secondary</td>\n",
              "      <td>no</td>\n",
              "      <td>71.0</td>\n",
              "      <td>yes</td>\n",
              "      <td>no</td>\n",
              "      <td>no</td>\n",
              "      <td>5</td>\n",
              "      <td>may</td>\n",
              "      <td>1.0</td>\n",
              "      <td>-1</td>\n",
              "      <td>0</td>\n",
              "      <td>no</td>\n",
              "    </tr>\n",
              "    <tr>\n",
              "      <th>14</th>\n",
              "      <td>57.0</td>\n",
              "      <td>services</td>\n",
              "      <td>married</td>\n",
              "      <td>secondary</td>\n",
              "      <td>no</td>\n",
              "      <td>162.0</td>\n",
              "      <td>yes</td>\n",
              "      <td>no</td>\n",
              "      <td>no</td>\n",
              "      <td>5</td>\n",
              "      <td>may</td>\n",
              "      <td>1.0</td>\n",
              "      <td>-1</td>\n",
              "      <td>0</td>\n",
              "      <td>no</td>\n",
              "    </tr>\n",
              "  </tbody>\n",
              "</table>\n",
              "</div>\n",
              "      <button class=\"colab-df-convert\" onclick=\"convertToInteractive('df-373c1483-6113-42a0-8c33-03886413efe8')\"\n",
              "              title=\"Convert this dataframe to an interactive table.\"\n",
              "              style=\"display:none;\">\n",
              "        \n",
              "  <svg xmlns=\"http://www.w3.org/2000/svg\" height=\"24px\"viewBox=\"0 0 24 24\"\n",
              "       width=\"24px\">\n",
              "    <path d=\"M0 0h24v24H0V0z\" fill=\"none\"/>\n",
              "    <path d=\"M18.56 5.44l.94 2.06.94-2.06 2.06-.94-2.06-.94-.94-2.06-.94 2.06-2.06.94zm-11 1L8.5 8.5l.94-2.06 2.06-.94-2.06-.94L8.5 2.5l-.94 2.06-2.06.94zm10 10l.94 2.06.94-2.06 2.06-.94-2.06-.94-.94-2.06-.94 2.06-2.06.94z\"/><path d=\"M17.41 7.96l-1.37-1.37c-.4-.4-.92-.59-1.43-.59-.52 0-1.04.2-1.43.59L10.3 9.45l-7.72 7.72c-.78.78-.78 2.05 0 2.83L4 21.41c.39.39.9.59 1.41.59.51 0 1.02-.2 1.41-.59l7.78-7.78 2.81-2.81c.8-.78.8-2.07 0-2.86zM5.41 20L4 18.59l7.72-7.72 1.47 1.35L5.41 20z\"/>\n",
              "  </svg>\n",
              "      </button>\n",
              "      \n",
              "  <style>\n",
              "    .colab-df-container {\n",
              "      display:flex;\n",
              "      flex-wrap:wrap;\n",
              "      gap: 12px;\n",
              "    }\n",
              "\n",
              "    .colab-df-convert {\n",
              "      background-color: #E8F0FE;\n",
              "      border: none;\n",
              "      border-radius: 50%;\n",
              "      cursor: pointer;\n",
              "      display: none;\n",
              "      fill: #1967D2;\n",
              "      height: 32px;\n",
              "      padding: 0 0 0 0;\n",
              "      width: 32px;\n",
              "    }\n",
              "\n",
              "    .colab-df-convert:hover {\n",
              "      background-color: #E2EBFA;\n",
              "      box-shadow: 0px 1px 2px rgba(60, 64, 67, 0.3), 0px 1px 3px 1px rgba(60, 64, 67, 0.15);\n",
              "      fill: #174EA6;\n",
              "    }\n",
              "\n",
              "    [theme=dark] .colab-df-convert {\n",
              "      background-color: #3B4455;\n",
              "      fill: #D2E3FC;\n",
              "    }\n",
              "\n",
              "    [theme=dark] .colab-df-convert:hover {\n",
              "      background-color: #434B5C;\n",
              "      box-shadow: 0px 1px 3px 1px rgba(0, 0, 0, 0.15);\n",
              "      filter: drop-shadow(0px 1px 2px rgba(0, 0, 0, 0.3));\n",
              "      fill: #FFFFFF;\n",
              "    }\n",
              "  </style>\n",
              "\n",
              "      <script>\n",
              "        const buttonEl =\n",
              "          document.querySelector('#df-373c1483-6113-42a0-8c33-03886413efe8 button.colab-df-convert');\n",
              "        buttonEl.style.display =\n",
              "          google.colab.kernel.accessAllowed ? 'block' : 'none';\n",
              "\n",
              "        async function convertToInteractive(key) {\n",
              "          const element = document.querySelector('#df-373c1483-6113-42a0-8c33-03886413efe8');\n",
              "          const dataTable =\n",
              "            await google.colab.kernel.invokeFunction('convertToInteractive',\n",
              "                                                     [key], {});\n",
              "          if (!dataTable) return;\n",
              "\n",
              "          const docLinkHtml = 'Like what you see? Visit the ' +\n",
              "            '<a target=\"_blank\" href=https://colab.research.google.com/notebooks/data_table.ipynb>data table notebook</a>'\n",
              "            + ' to learn more about interactive tables.';\n",
              "          element.innerHTML = '';\n",
              "          dataTable['output_type'] = 'display_data';\n",
              "          await google.colab.output.renderOutput(dataTable, element);\n",
              "          const docLink = document.createElement('div');\n",
              "          docLink.innerHTML = docLinkHtml;\n",
              "          element.appendChild(docLink);\n",
              "        }\n",
              "      </script>\n",
              "    </div>\n",
              "  </div>\n",
              "  "
            ]
          },
          "metadata": {},
          "execution_count": 36
        }
      ]
    },
    {
      "cell_type": "code",
      "source": [
        "#Rechecking the shape of the dataframe\n",
        "banks6.shape"
      ],
      "metadata": {
        "colab": {
          "base_uri": "https://localhost:8080/"
        },
        "id": "dIgDDD1uNUCQ",
        "outputId": "8e2912bd-c95f-47cf-ae16-09e7b50384d3"
      },
      "execution_count": null,
      "outputs": [
        {
          "output_type": "execute_result",
          "data": {
            "text/plain": [
              "(37351, 15)"
            ]
          },
          "metadata": {},
          "execution_count": 37
        }
      ]
    },
    {
      "cell_type": "markdown",
      "source": [
        "### *d. Converting the target variable 'y' into '0' and '1'*"
      ],
      "metadata": {
        "id": "9Le6reksIRSr"
      }
    },
    {
      "cell_type": "code",
      "source": [
        "#Changing yes to 1 and no to 0\n",
        "banks6['y'] = banks6['y'].map({'yes': 1, 'no': 0})"
      ],
      "metadata": {
        "id": "l7aAa4UzIVB8"
      },
      "execution_count": null,
      "outputs": []
    },
    {
      "cell_type": "code",
      "source": [
        "#How many people(client) have subscribed to a term deposit?    \n",
        "banks6.y.value_counts() "
      ],
      "metadata": {
        "colab": {
          "base_uri": "https://localhost:8080/"
        },
        "id": "mUW-pTSoOExa",
        "outputId": "214e71e7-6ca9-42f7-8b50-b4b1bda957c4"
      },
      "execution_count": null,
      "outputs": [
        {
          "output_type": "execute_result",
          "data": {
            "text/plain": [
              "0    33126\n",
              "1     4225\n",
              "Name: y, dtype: int64"
            ]
          },
          "metadata": {},
          "execution_count": 39
        }
      ]
    },
    {
      "cell_type": "markdown",
      "source": [
        "## **IV. Correlation table and Heatmap**"
      ],
      "metadata": {
        "id": "6sVlTh6MIhIK"
      }
    },
    {
      "cell_type": "code",
      "source": [
        "#Calculating correlation\n",
        "corr_matrix = banks6.corr()\n",
        "print(corr_matrix)"
      ],
      "metadata": {
        "colab": {
          "base_uri": "https://localhost:8080/"
        },
        "id": "LkOmKpPtIj6g",
        "outputId": "cae40e4b-c278-493f-e50a-3336fc27b316"
      },
      "execution_count": null,
      "outputs": [
        {
          "output_type": "stream",
          "name": "stdout",
          "text": [
            "               age   balance       day  campaign     pdays  previous         y\n",
            "age       1.000000  0.083464 -0.008343  0.038840 -0.029990 -0.006752 -0.016984\n",
            "balance   0.083464  1.000000  0.007037 -0.024644  0.027265  0.034060  0.087320\n",
            "day      -0.008343  0.007037  1.000000  0.102572 -0.083853 -0.044462 -0.025958\n",
            "campaign  0.038840 -0.024644  0.102572  1.000000 -0.068166 -0.005904 -0.063334\n",
            "pdays    -0.029990  0.027265 -0.083853 -0.068166  1.000000  0.442701  0.100359\n",
            "previous -0.006752  0.034060 -0.044462 -0.005904  0.442701  1.000000  0.091997\n",
            "y        -0.016984  0.087320 -0.025958 -0.063334  0.100359  0.091997  1.000000\n"
          ]
        }
      ]
    },
    {
      "cell_type": "code",
      "source": [
        "#Creating correlation heat map\n",
        "plt.figure(figsize=(16,10))\n",
        "sns.heatmap(corr_matrix, annot=True, vmin=-1, vmax=1,fmt='.2f')\n",
        "plt.title(\"Correlation Heatmap\", fontsize = 15)\n",
        "plt.show()"
      ],
      "metadata": {
        "colab": {
          "base_uri": "https://localhost:8080/",
          "height": 609
        },
        "id": "Q_980JsNIoX5",
        "outputId": "59208ee1-e755-4abf-a85d-7b67df02f647"
      },
      "execution_count": null,
      "outputs": [
        {
          "output_type": "display_data",
          "data": {
            "text/plain": [
              "<Figure size 1152x720 with 2 Axes>"
            ],
            "image/png": "[encoded data removed]"
          },
          "metadata": {
            "needs_background": "light"
          }
        }
      ]
    },
    {
      "cell_type": "code",
      "source": [
        "#Plotting the heatmap of only highly correlated varibles with threshold value 0.4\n",
        "plt.figure(figsize=(16,10))\n",
        "sns.heatmap(corr_matrix[corr_matrix > 0.4], annot=True)\n",
        "plt.title(\"Correlation Heatmap\",  fontsize = 15)\n",
        "plt.show()"
      ],
      "metadata": {
        "colab": {
          "base_uri": "https://localhost:8080/",
          "height": 609
        },
        "id": "Rx86TZ5ZIz16",
        "outputId": "d43af0a3-28ed-415e-e2c0-89db70fc5b81"
      },
      "execution_count": null,
      "outputs": [
        {
          "output_type": "display_data",
          "data": {
            "text/plain": [
              "<Figure size 1152x720 with 2 Axes>"
            ],
            "image/png": "[encoded data removed]"
          },
          "metadata": {
            "needs_background": "light"
          }
        }
      ]
    },
    {
      "cell_type": "markdown",
      "source": [
        "## **V. Analysis Preparation**"
      ],
      "metadata": {
        "id": "7omH7KG2oiEs"
      }
    },
    {
      "cell_type": "markdown",
      "source": [
        "### *a. Class Imbalance*"
      ],
      "metadata": {
        "id": "yll98yVLouXK"
      }
    },
    {
      "cell_type": "code",
      "source": [
        "#Checking for class imbalance\n",
        "class_values = (banks6['y'].value_counts()/banks6['y'].value_counts().sum())*100\n",
        "print(class_values)"
      ],
      "metadata": {
        "colab": {
          "base_uri": "https://localhost:8080/"
        },
        "id": "zTUW1UqRo74_",
        "outputId": "34859347-9702-4268-dcfd-ee029d73ce0d"
      },
      "execution_count": null,
      "outputs": [
        {
          "output_type": "stream",
          "name": "stdout",
          "text": [
            "0    88.688389\n",
            "1    11.311611\n",
            "Name: y, dtype: float64\n"
          ]
        }
      ]
    },
    {
      "cell_type": "markdown",
      "source": [
        "Note: The class distribution in the target is 89:11. This is a clear indication of imbalance."
      ],
      "metadata": {
        "id": "j8hOhp6apDTn"
      }
    },
    {
      "cell_type": "markdown",
      "source": [
        "### *b. Transforming variables*"
      ],
      "metadata": {
        "id": "KHCfIzWEtK72"
      }
    },
    {
      "cell_type": "code",
      "source": [
        "#Create a list of element containing the string 'purpose, job,etc.'. Call this list cat_list.\n",
        "cat_list = ['job','marital','education','default','housing','loan','contact','month']"
      ],
      "metadata": {
        "id": "V8HCFpXmtG1T"
      },
      "execution_count": null,
      "outputs": []
    },
    {
      "cell_type": "code",
      "source": [
        "#Getting dummies\n",
        "new_banks = pd.get_dummies(banks6, columns = cat_list)"
      ],
      "metadata": {
        "id": "lOwFaMDetRVy"
      },
      "execution_count": null,
      "outputs": []
    },
    {
      "cell_type": "code",
      "source": [
        "banks6 = new_banks.dropna()"
      ],
      "metadata": {
        "id": "-Hu_cgBEtqxg"
      },
      "execution_count": null,
      "outputs": []
    },
    {
      "cell_type": "code",
      "source": [
        "banks6.info()"
      ],
      "metadata": {
        "colab": {
          "base_uri": "https://localhost:8080/"
        },
        "id": "Mm3R4t5itwpU",
        "outputId": "4cfa77cc-fc54-4db2-ec29-be5fd54e09c9"
      },
      "execution_count": null,
      "outputs": [
        {
          "output_type": "stream",
          "name": "stdout",
          "text": [
            "<class 'pandas.core.frame.DataFrame'>\n",
            "Int64Index: 37351 entries, 0 to 45210\n",
            "Data columns (total 45 columns):\n",
            " #   Column               Non-Null Count  Dtype  \n",
            "---  ------               --------------  -----  \n",
            " 0   age                  37351 non-null  float64\n",
            " 1   balance              37351 non-null  float64\n",
            " 2   day                  37351 non-null  int64  \n",
            " 3   campaign             37351 non-null  float64\n",
            " 4   pdays                37351 non-null  int64  \n",
            " 5   previous             37351 non-null  int64  \n",
            " 6   y                    37351 non-null  int64  \n",
            " 7   job_admin            37351 non-null  uint8  \n",
            " 8   job_blue-collar      37351 non-null  uint8  \n",
            " 9   job_entrepreneur     37351 non-null  uint8  \n",
            " 10  job_housemaid        37351 non-null  uint8  \n",
            " 11  job_management       37351 non-null  uint8  \n",
            " 12  job_retired          37351 non-null  uint8  \n",
            " 13  job_self-employed    37351 non-null  uint8  \n",
            " 14  job_services         37351 non-null  uint8  \n",
            " 15  job_student          37351 non-null  uint8  \n",
            " 16  job_technician       37351 non-null  uint8  \n",
            " 17  job_unemployed       37351 non-null  uint8  \n",
            " 18  marital_divorced     37351 non-null  uint8  \n",
            " 19  marital_married      37351 non-null  uint8  \n",
            " 20  marital_single       37351 non-null  uint8  \n",
            " 21  education_primary    37351 non-null  uint8  \n",
            " 22  education_secondary  37351 non-null  uint8  \n",
            " 23  education_tertiary   37351 non-null  uint8  \n",
            " 24  default_no           37351 non-null  uint8  \n",
            " 25  default_yes          37351 non-null  uint8  \n",
            " 26  housing_no           37351 non-null  uint8  \n",
            " 27  housing_yes          37351 non-null  uint8  \n",
            " 28  loan_no              37351 non-null  uint8  \n",
            " 29  loan_yes             37351 non-null  uint8  \n",
            " 30  contact_cellular     37351 non-null  uint8  \n",
            " 31  contact_no           37351 non-null  uint8  \n",
            " 32  contact_telephone    37351 non-null  uint8  \n",
            " 33  month_apr            37351 non-null  uint8  \n",
            " 34  month_aug            37351 non-null  uint8  \n",
            " 35  month_dec            37351 non-null  uint8  \n",
            " 36  month_feb            37351 non-null  uint8  \n",
            " 37  month_jan            37351 non-null  uint8  \n",
            " 38  month_jul            37351 non-null  uint8  \n",
            " 39  month_jun            37351 non-null  uint8  \n",
            " 40  month_mar            37351 non-null  uint8  \n",
            " 41  month_may            37351 non-null  uint8  \n",
            " 42  month_nov            37351 non-null  uint8  \n",
            " 43  month_oct            37351 non-null  uint8  \n",
            " 44  month_sep            37351 non-null  uint8  \n",
            "dtypes: float64(3), int64(4), uint8(38)\n",
            "memory usage: 3.6 MB\n"
          ]
        }
      ]
    },
    {
      "cell_type": "code",
      "source": [
        "banks6.head()"
      ],
      "metadata": {
        "colab": {
          "base_uri": "https://localhost:8080/",
          "height": 317
        },
        "id": "_CxkonTbuA6k",
        "outputId": "3db91668-0622-4f92-f0a5-94ce0af23521"
      },
      "execution_count": null,
      "outputs": [
        {
          "output_type": "execute_result",
          "data": {
            "text/plain": [
              "    age  balance  day  campaign  pdays  previous  y  job_admin  \\\n",
              "0  58.0   2143.0    5       1.0     -1         0  0          0   \n",
              "1  44.0     29.0    5       1.0     -1         0  0          0   \n",
              "2  33.0      2.0    5       1.0     -1         0  0          0   \n",
              "3  47.0   1506.0    5       1.0     -1         0  0          0   \n",
              "4  33.0      1.0    5       1.0     -1         0  0          0   \n",
              "\n",
              "   job_blue-collar  job_entrepreneur  ...  month_dec  month_feb  month_jan  \\\n",
              "0                0                 0  ...          0          0          0   \n",
              "1                0                 0  ...          0          0          0   \n",
              "2                0                 1  ...          0          0          0   \n",
              "3                1                 0  ...          0          0          0   \n",
              "4                1                 0  ...          0          0          0   \n",
              "\n",
              "   month_jul  month_jun  month_mar  month_may  month_nov  month_oct  month_sep  \n",
              "0          0          0          0          1          0          0          0  \n",
              "1          0          0          0          1          0          0          0  \n",
              "2          0          0          0          1          0          0          0  \n",
              "3          0          0          0          1          0          0          0  \n",
              "4          0          0          0          1          0          0          0  \n",
              "\n",
              "[5 rows x 45 columns]"
            ],
            "text/html": [
              "\n",
              "  <div id=\"df-24671e6e-6749-4eb5-8b02-66eff7d0274b\">\n",
              "    <div class=\"colab-df-container\">\n",
              "      <div>\n",
              "<style scoped>\n",
              "    .dataframe tbody tr th:only-of-type {\n",
              "        vertical-align: middle;\n",
              "    }\n",
              "\n",
              "    .dataframe tbody tr th {\n",
              "        vertical-align: top;\n",
              "    }\n",
              "\n",
              "    .dataframe thead th {\n",
              "        text-align: right;\n",
              "    }\n",
              "</style>\n",
              "<table border=\"1\" class=\"dataframe\">\n",
              "  <thead>\n",
              "    <tr style=\"text-align: right;\">\n",
              "      <th></th>\n",
              "      <th>age</th>\n",
              "      <th>balance</th>\n",
              "      <th>day</th>\n",
              "      <th>campaign</th>\n",
              "      <th>pdays</th>\n",
              "      <th>previous</th>\n",
              "      <th>y</th>\n",
              "      <th>job_admin</th>\n",
              "      <th>job_blue-collar</th>\n",
              "      <th>job_entrepreneur</th>\n",
              "      <th>...</th>\n",
              "      <th>month_dec</th>\n",
              "      <th>month_feb</th>\n",
              "      <th>month_jan</th>\n",
              "      <th>month_jul</th>\n",
              "      <th>month_jun</th>\n",
              "      <th>month_mar</th>\n",
              "      <th>month_may</th>\n",
              "      <th>month_nov</th>\n",
              "      <th>month_oct</th>\n",
              "      <th>month_sep</th>\n",
              "    </tr>\n",
              "  </thead>\n",
              "  <tbody>\n",
              "    <tr>\n",
              "      <th>0</th>\n",
              "      <td>58.0</td>\n",
              "      <td>2143.0</td>\n",
              "      <td>5</td>\n",
              "      <td>1.0</td>\n",
              "      <td>-1</td>\n",
              "      <td>0</td>\n",
              "      <td>0</td>\n",
              "      <td>0</td>\n",
              "      <td>0</td>\n",
              "      <td>0</td>\n",
              "      <td>...</td>\n",
              "      <td>0</td>\n",
              "      <td>0</td>\n",
              "      <td>0</td>\n",
              "      <td>0</td>\n",
              "      <td>0</td>\n",
              "      <td>0</td>\n",
              "      <td>1</td>\n",
              "      <td>0</td>\n",
              "      <td>0</td>\n",
              "      <td>0</td>\n",
              "    </tr>\n",
              "    <tr>\n",
              "      <th>1</th>\n",
              "      <td>44.0</td>\n",
              "      <td>29.0</td>\n",
              "      <td>5</td>\n",
              "      <td>1.0</td>\n",
              "      <td>-1</td>\n",
              "      <td>0</td>\n",
              "      <td>0</td>\n",
              "      <td>0</td>\n",
              "      <td>0</td>\n",
              "      <td>0</td>\n",
              "      <td>...</td>\n",
              "      <td>0</td>\n",
              "      <td>0</td>\n",
              "      <td>0</td>\n",
              "      <td>0</td>\n",
              "      <td>0</td>\n",
              "      <td>0</td>\n",
              "      <td>1</td>\n",
              "      <td>0</td>\n",
              "      <td>0</td>\n",
              "      <td>0</td>\n",
              "    </tr>\n",
              "    <tr>\n",
              "      <th>2</th>\n",
              "      <td>33.0</td>\n",
              "      <td>2.0</td>\n",
              "      <td>5</td>\n",
              "      <td>1.0</td>\n",
              "      <td>-1</td>\n",
              "      <td>0</td>\n",
              "      <td>0</td>\n",
              "      <td>0</td>\n",
              "      <td>0</td>\n",
              "      <td>1</td>\n",
              "      <td>...</td>\n",
              "      <td>0</td>\n",
              "      <td>0</td>\n",
              "      <td>0</td>\n",
              "      <td>0</td>\n",
              "      <td>0</td>\n",
              "      <td>0</td>\n",
              "      <td>1</td>\n",
              "      <td>0</td>\n",
              "      <td>0</td>\n",
              "      <td>0</td>\n",
              "    </tr>\n",
              "    <tr>\n",
              "      <th>3</th>\n",
              "      <td>47.0</td>\n",
              "      <td>1506.0</td>\n",
              "      <td>5</td>\n",
              "      <td>1.0</td>\n",
              "      <td>-1</td>\n",
              "      <td>0</td>\n",
              "      <td>0</td>\n",
              "      <td>0</td>\n",
              "      <td>1</td>\n",
              "      <td>0</td>\n",
              "      <td>...</td>\n",
              "      <td>0</td>\n",
              "      <td>0</td>\n",
              "      <td>0</td>\n",
              "      <td>0</td>\n",
              "      <td>0</td>\n",
              "      <td>0</td>\n",
              "      <td>1</td>\n",
              "      <td>0</td>\n",
              "      <td>0</td>\n",
              "      <td>0</td>\n",
              "    </tr>\n",
              "    <tr>\n",
              "      <th>4</th>\n",
              "      <td>33.0</td>\n",
              "      <td>1.0</td>\n",
              "      <td>5</td>\n",
              "      <td>1.0</td>\n",
              "      <td>-1</td>\n",
              "      <td>0</td>\n",
              "      <td>0</td>\n",
              "      <td>0</td>\n",
              "      <td>1</td>\n",
              "      <td>0</td>\n",
              "      <td>...</td>\n",
              "      <td>0</td>\n",
              "      <td>0</td>\n",
              "      <td>0</td>\n",
              "      <td>0</td>\n",
              "      <td>0</td>\n",
              "      <td>0</td>\n",
              "      <td>1</td>\n",
              "      <td>0</td>\n",
              "      <td>0</td>\n",
              "      <td>0</td>\n",
              "    </tr>\n",
              "  </tbody>\n",
              "</table>\n",
              "<p>5 rows × 45 columns</p>\n",
              "</div>\n",
              "      <button class=\"colab-df-convert\" onclick=\"convertToInteractive('df-24671e6e-6749-4eb5-8b02-66eff7d0274b')\"\n",
              "              title=\"Convert this dataframe to an interactive table.\"\n",
              "              style=\"display:none;\">\n",
              "        \n",
              "  <svg xmlns=\"http://www.w3.org/2000/svg\" height=\"24px\"viewBox=\"0 0 24 24\"\n",
              "       width=\"24px\">\n",
              "    <path d=\"M0 0h24v24H0V0z\" fill=\"none\"/>\n",
              "    <path d=\"M18.56 5.44l.94 2.06.94-2.06 2.06-.94-2.06-.94-.94-2.06-.94 2.06-2.06.94zm-11 1L8.5 8.5l.94-2.06 2.06-.94-2.06-.94L8.5 2.5l-.94 2.06-2.06.94zm10 10l.94 2.06.94-2.06 2.06-.94-2.06-.94-.94-2.06-.94 2.06-2.06.94z\"/><path d=\"M17.41 7.96l-1.37-1.37c-.4-.4-.92-.59-1.43-.59-.52 0-1.04.2-1.43.59L10.3 9.45l-7.72 7.72c-.78.78-.78 2.05 0 2.83L4 21.41c.39.39.9.59 1.41.59.51 0 1.02-.2 1.41-.59l7.78-7.78 2.81-2.81c.8-.78.8-2.07 0-2.86zM5.41 20L4 18.59l7.72-7.72 1.47 1.35L5.41 20z\"/>\n",
              "  </svg>\n",
              "      </button>\n",
              "      \n",
              "  <style>\n",
              "    .colab-df-container {\n",
              "      display:flex;\n",
              "      flex-wrap:wrap;\n",
              "      gap: 12px;\n",
              "    }\n",
              "\n",
              "    .colab-df-convert {\n",
              "      background-color: #E8F0FE;\n",
              "      border: none;\n",
              "      border-radius: 50%;\n",
              "      cursor: pointer;\n",
              "      display: none;\n",
              "      fill: #1967D2;\n",
              "      height: 32px;\n",
              "      padding: 0 0 0 0;\n",
              "      width: 32px;\n",
              "    }\n",
              "\n",
              "    .colab-df-convert:hover {\n",
              "      background-color: #E2EBFA;\n",
              "      box-shadow: 0px 1px 2px rgba(60, 64, 67, 0.3), 0px 1px 3px 1px rgba(60, 64, 67, 0.15);\n",
              "      fill: #174EA6;\n",
              "    }\n",
              "\n",
              "    [theme=dark] .colab-df-convert {\n",
              "      background-color: #3B4455;\n",
              "      fill: #D2E3FC;\n",
              "    }\n",
              "\n",
              "    [theme=dark] .colab-df-convert:hover {\n",
              "      background-color: #434B5C;\n",
              "      box-shadow: 0px 1px 3px 1px rgba(0, 0, 0, 0.15);\n",
              "      filter: drop-shadow(0px 1px 2px rgba(0, 0, 0, 0.3));\n",
              "      fill: #FFFFFF;\n",
              "    }\n",
              "  </style>\n",
              "\n",
              "      <script>\n",
              "        const buttonEl =\n",
              "          document.querySelector('#df-24671e6e-6749-4eb5-8b02-66eff7d0274b button.colab-df-convert');\n",
              "        buttonEl.style.display =\n",
              "          google.colab.kernel.accessAllowed ? 'block' : 'none';\n",
              "\n",
              "        async function convertToInteractive(key) {\n",
              "          const element = document.querySelector('#df-24671e6e-6749-4eb5-8b02-66eff7d0274b');\n",
              "          const dataTable =\n",
              "            await google.colab.kernel.invokeFunction('convertToInteractive',\n",
              "                                                     [key], {});\n",
              "          if (!dataTable) return;\n",
              "\n",
              "          const docLinkHtml = 'Like what you see? Visit the ' +\n",
              "            '<a target=\"_blank\" href=https://colab.research.google.com/notebooks/data_table.ipynb>data table notebook</a>'\n",
              "            + ' to learn more about interactive tables.';\n",
              "          element.innerHTML = '';\n",
              "          dataTable['output_type'] = 'display_data';\n",
              "          await google.colab.output.renderOutput(dataTable, element);\n",
              "          const docLink = document.createElement('div');\n",
              "          docLink.innerHTML = docLinkHtml;\n",
              "          element.appendChild(docLink);\n",
              "        }\n",
              "      </script>\n",
              "    </div>\n",
              "  </div>\n",
              "  "
            ]
          },
          "metadata": {},
          "execution_count": 48
        }
      ]
    },
    {
      "cell_type": "code",
      "source": [
        "banks6.shape"
      ],
      "metadata": {
        "colab": {
          "base_uri": "https://localhost:8080/"
        },
        "id": "DRXaTaECuCNh",
        "outputId": "c5e54f58-ff8b-47d8-fcee-03db3068063f"
      },
      "execution_count": null,
      "outputs": [
        {
          "output_type": "execute_result",
          "data": {
            "text/plain": [
              "(37351, 45)"
            ]
          },
          "metadata": {},
          "execution_count": 49
        }
      ]
    },
    {
      "cell_type": "markdown",
      "source": [
        "### *c. Train Test Split*"
      ],
      "metadata": {
        "id": "TjvDnV2PrzRr"
      }
    },
    {
      "cell_type": "code",
      "source": [
        "#Split the datasets into training and test data\n",
        "X = banks6.drop('y', axis=1)\n",
        "y = banks6.y\n",
        "X_train, X_test, y_train, y_test = train_test_split(X, y, random_state = 1, test_size= 0.40)"
      ],
      "metadata": {
        "id": "Uu2TBgE3r2lv"
      },
      "execution_count": null,
      "outputs": []
    },
    {
      "cell_type": "code",
      "source": [
        "X_train.shape"
      ],
      "metadata": {
        "colab": {
          "base_uri": "https://localhost:8080/"
        },
        "id": "JBvGioh_sBgZ",
        "outputId": "81dff675-25f5-4b13-f07e-a99ea89d0970"
      },
      "execution_count": null,
      "outputs": [
        {
          "output_type": "execute_result",
          "data": {
            "text/plain": [
              "(22410, 44)"
            ]
          },
          "metadata": {},
          "execution_count": 51
        }
      ]
    },
    {
      "cell_type": "code",
      "source": [
        "X_test.shape"
      ],
      "metadata": {
        "colab": {
          "base_uri": "https://localhost:8080/"
        },
        "id": "keePE6-FsCNn",
        "outputId": "591dc6af-30e9-4eb1-c06f-95fa272201e0"
      },
      "execution_count": null,
      "outputs": [
        {
          "output_type": "execute_result",
          "data": {
            "text/plain": [
              "(14941, 44)"
            ]
          },
          "metadata": {},
          "execution_count": 52
        }
      ]
    },
    {
      "cell_type": "code",
      "source": [
        "y_train.shape"
      ],
      "metadata": {
        "colab": {
          "base_uri": "https://localhost:8080/"
        },
        "id": "aDQr_U1zsFcG",
        "outputId": "2415d29d-2a45-4260-c14b-820f02b7c02e"
      },
      "execution_count": null,
      "outputs": [
        {
          "output_type": "execute_result",
          "data": {
            "text/plain": [
              "(22410,)"
            ]
          },
          "metadata": {},
          "execution_count": 53
        }
      ]
    },
    {
      "cell_type": "code",
      "source": [
        "y_test.shape"
      ],
      "metadata": {
        "colab": {
          "base_uri": "https://localhost:8080/"
        },
        "id": "xtKzB-3JsF4M",
        "outputId": "dad84186-a345-413d-8972-6fbd0c099ae1"
      },
      "execution_count": null,
      "outputs": [
        {
          "output_type": "execute_result",
          "data": {
            "text/plain": [
              "(14941,)"
            ]
          },
          "metadata": {},
          "execution_count": 54
        }
      ]
    },
    {
      "cell_type": "code",
      "source": [
        "#Standardization of the data\n",
        "ss = StandardScaler()\n",
        "ss.fit(X_train)\n",
        "X_train = ss.transform(X_train)\n",
        "X_test = ss.transform(X_test)"
      ],
      "metadata": {
        "id": "Iu2bDAq4sTj2"
      },
      "execution_count": null,
      "outputs": []
    },
    {
      "cell_type": "markdown",
      "source": [
        "### *d. Applying SMOTE: Synthetic Minority Oversampling Technique*"
      ],
      "metadata": {
        "id": "4nm1dRK7rkaS"
      }
    },
    {
      "cell_type": "code",
      "source": [
        "pip install imbalanced-learn"
      ],
      "metadata": {
        "colab": {
          "base_uri": "https://localhost:8080/"
        },
        "id": "IFYVpIHErlp9",
        "outputId": "54e36a9c-cc3e-4f92-8731-1132b7931ad6"
      },
      "execution_count": null,
      "outputs": [
        {
          "output_type": "stream",
          "name": "stdout",
          "text": [
            "Looking in indexes: https://pypi.org/simple, https://us-python.pkg.dev/colab-wheels/public/simple/\n",
            "Requirement already satisfied: imbalanced-learn in /usr/local/lib/python3.7/dist-packages (0.8.1)\n",
            "Requirement already satisfied: numpy>=1.13.3 in /usr/local/lib/python3.7/dist-packages (from imbalanced-learn) (1.21.6)\n",
            "Requirement already satisfied: scipy>=0.19.1 in /usr/local/lib/python3.7/dist-packages (from imbalanced-learn) (1.7.3)\n",
            "Requirement already satisfied: joblib>=0.11 in /usr/local/lib/python3.7/dist-packages (from imbalanced-learn) (1.1.0)\n",
            "Requirement already satisfied: scikit-learn>=0.24 in /usr/local/lib/python3.7/dist-packages (from imbalanced-learn) (1.0.2)\n",
            "Requirement already satisfied: threadpoolctl>=2.0.0 in /usr/local/lib/python3.7/dist-packages (from scikit-learn>=0.24->imbalanced-learn) (3.1.0)\n"
          ]
        }
      ]
    },
    {
      "cell_type": "code",
      "source": [
        "#Check how many clients subscribed for a term deposit\n",
        "ax = banks6['y'].value_counts().plot(kind='bar', figsize=(12, 10), fontsize=13, color='#087E8B')\n",
        "ax.set_title('Term deposit subscription', size=20, pad=30)\n",
        "ax.set_ylabel('Count', fontsize=14)\n",
        "\n",
        "for i in ax.patches:\n",
        "    ax.text(i.get_x() + 0.19, i.get_height() + 700, str(round(i.get_height(), 2)), fontsize=15)"
      ],
      "metadata": {
        "colab": {
          "base_uri": "https://localhost:8080/",
          "height": 635
        },
        "id": "erZpe52AvCkr",
        "outputId": "c8f305a3-b48f-4b2d-eb91-5992eb67ccc6"
      },
      "execution_count": null,
      "outputs": [
        {
          "output_type": "display_data",
          "data": {
            "text/plain": [
              "<Figure size 864x720 with 1 Axes>"
            ],
            "image/png": "[encoded data removed]"
          },
          "metadata": {
            "needs_background": "light"
          }
        }
      ]
    },
    {
      "cell_type": "code",
      "source": [
        "#Applying smote to the imbalanced proportion\n",
        "from imblearn.over_sampling import SMOTE \n",
        "\n",
        "sm = SMOTE(random_state=42)\n",
        "\n",
        "X_sm, y_sm = sm.fit_resample(X, y)\n",
        "\n",
        "print(f'''Shape of X before SMOTE: {X.shape}\n",
        "Shape of X after SMOTE: {X_sm.shape}''')\n",
        "\n",
        "print('\\nBalance of positive and negative classes (%):')\n",
        "y_sm.value_counts(normalize=True) * 100"
      ],
      "metadata": {
        "colab": {
          "base_uri": "https://localhost:8080/"
        },
        "id": "JKcuPghGvY3c",
        "outputId": "b0be93a2-c121-4335-ffe5-fcc7d73194b5"
      },
      "execution_count": null,
      "outputs": [
        {
          "output_type": "stream",
          "name": "stdout",
          "text": [
            "Shape of X before SMOTE: (37351, 44)\n",
            "Shape of X after SMOTE: (66252, 44)\n",
            "\n",
            "Balance of positive and negative classes (%):\n"
          ]
        },
        {
          "output_type": "execute_result",
          "data": {
            "text/plain": [
              "0    50.0\n",
              "1    50.0\n",
              "Name: y, dtype: float64"
            ]
          },
          "metadata": {},
          "execution_count": 58
        }
      ]
    },
    {
      "cell_type": "markdown",
      "source": [
        "### *e. Helper function*"
      ],
      "metadata": {
        "id": "OhOGELrE60LW"
      }
    },
    {
      "cell_type": "markdown",
      "source": [
        "Built a helper function to utilize this feature and make the code more comprehensible."
      ],
      "metadata": {
        "id": "mCwb_H-UtsV1"
      }
    },
    {
      "cell_type": "code",
      "source": [
        "def model_perf_v1(model,X_train, X_val, y_train, y_val):\n",
        "    \n",
        "    pred_dt = model.predict(X_val)\n",
        "    print(\"Accuracy on training set:\")\n",
        "    pred = model.predict(X_train)\n",
        "    print(metrics.accuracy_score(y_true = y_train, y_pred = pred))\n",
        "    #\n",
        "    print(\"Accuracy on testing set:\")\n",
        "    accuracy = (metrics.accuracy_score(y_true = y_val, y_pred = pred_dt))\n",
        "    print(accuracy)\n",
        "    #confusion matrix\n",
        "    confusion_matrix_ =  pd.crosstab(index=y_val, columns=pred_dt.ravel(), rownames=['Expected'], colnames=['Predicted'])\n",
        "    #visualization\n",
        "    sns.heatmap(confusion_matrix_, annot=True, square=False, fmt='', cbar=False)\n",
        "    plt.title(\"Confusion Matrix\", fontsize = 15)\n",
        "    plt.show()\n",
        "    #\n",
        "    print(\"Recall:\")\n",
        "    recall = (metrics.recall_score(y_val,pred_dt))\n",
        "    #recall_no = (metrics.recall_score(y_val,pred_dt))\n",
        "    print(recall)\n",
        "    #print(recall_no)\n",
        "    # #\n",
        "    print(\"Specificity:\")\n",
        "    tn, fp, fn, tp = confusion_matrix(y_val,pred_dt).ravel()\n",
        "    spec = tn/(tn+fp)\n",
        "    Specificity = (spec)\n",
        "    print(Specificity)\n",
        "\n",
        "    # #\n",
        "    print(\"Precision:\")\n",
        "    Precision = (metrics.precision_score(y_val,pred_dt))\n",
        "    print(Precision)\n",
        "    # #\n",
        "    print(\"Balanced Accuracy:\")\n",
        "    Balanced_Accuracy = (metrics.balanced_accuracy_score(y_val,pred_dt))\n",
        "    print(Balanced_Accuracy)\n",
        "    # #\n",
        "    print(\"F1 score:\")\n",
        "    F1_score = (metrics.f1_score(y_val,pred_dt))\n",
        "    print(F1_score)\n",
        "    #classification_report\n",
        "    # print(metrics.classification_report(y_test, pred_dt))\n",
        "    return accuracy,recall,Specificity,Precision,F1_score,Balanced_Accuracy"
      ],
      "metadata": {
        "id": "k-CvskZS66FZ"
      },
      "execution_count": null,
      "outputs": []
    },
    {
      "cell_type": "code",
      "source": [
        "def model_perf_to_lst(model,X_val, y_val):\n",
        "    lst = [str(model)]\n",
        "    pred_dt = model.predict(X_val)\n",
        "    #print(\"Accuracy on testing set:\")\n",
        "    lst.append(metrics.accuracy_score(y_true = y_val, y_pred = pred_dt))\n",
        "    #print(\"Recall:\")\n",
        "    lst.append(metrics.recall_score(y_val,pred_dt))\n",
        "    #\n",
        "    #print(\"Specificity:\")\n",
        "    tn, fp, fn, tp = confusion_matrix(y_val,pred_dt).ravel()\n",
        "    spec = tn/(tn+fp)\n",
        "    lst.append(spec)\n",
        "    #\n",
        "    #print(\"Precision:\")\n",
        "    lst.append(metrics.precision_score(y_val,pred_dt))\n",
        "    #\n",
        "    #print(\"Balanced Accuracy:\")\n",
        "    lst.append(metrics.balanced_accuracy_score(y_val,pred_dt))\n",
        "    #\n",
        "    #print(\"F1 score:\")\n",
        "    lst.append(metrics.f1_score(y_val,pred_dt))\n",
        "    return lst"
      ],
      "metadata": {
        "id": "sEKwU40W7C7i"
      },
      "execution_count": null,
      "outputs": []
    },
    {
      "cell_type": "code",
      "source": [
        "best_cl_normal = pd.DataFrame(columns = ['Model','Accuracy','Recall', 'Specificity', 'Precision', 'Balanced Accuracy', 'F1 score'])"
      ],
      "metadata": {
        "id": "rXYlYuUt7GDS"
      },
      "execution_count": null,
      "outputs": []
    },
    {
      "cell_type": "markdown",
      "source": [
        "# **VI. Modelling**"
      ],
      "metadata": {
        "id": "lqTazshOwXD9"
      }
    },
    {
      "cell_type": "markdown",
      "source": [
        "### *a. Random Forest Classifier*"
      ],
      "metadata": {
        "id": "z01p8i6Wwj2D"
      }
    },
    {
      "cell_type": "code",
      "source": [
        "rf = RandomForestClassifier()\n",
        "#Fitting the model\n",
        "rf.fit(X_sm,y_sm)\n",
        "Accuracy_rf_sm, Recall_rf_sm, Specificity_rf_sm, Precision_rf_sm, F1_score_rf_sm, Balanced_Accuracy_rf_sm = model_perf_v1(rf,X_sm, X_test, y_sm, y_test)\n",
        "rf_perf = model_perf_to_lst(rf, X_test, y_test) "
      ],
      "metadata": {
        "colab": {
          "base_uri": "https://localhost:8080/",
          "height": 610
        },
        "id": "AX2BNHdYwgTC",
        "outputId": "1a2ccce9-d877-4470-8ff2-d0b160e1fb37"
      },
      "execution_count": null,
      "outputs": [
        {
          "output_type": "stream",
          "name": "stderr",
          "text": [
            "/usr/local/lib/python3.7/dist-packages/sklearn/base.py:451: UserWarning: X does not have valid feature names, but RandomForestClassifier was fitted with feature names\n",
            "  \"X does not have valid feature names, but\"\n"
          ]
        },
        {
          "output_type": "stream",
          "name": "stdout",
          "text": [
            "Accuracy on training set:\n",
            "0.9999698122320836\n",
            "Accuracy on testing set:\n",
            "0.6658858175490262\n"
          ]
        },
        {
          "output_type": "display_data",
          "data": {
            "text/plain": [
              "<Figure size 432x288 with 1 Axes>"
            ],
            "image/png": "[encoded data removed]"
          },
          "metadata": {
            "needs_background": "light"
          }
        },
        {
          "output_type": "stream",
          "name": "stdout",
          "text": [
            "Recall:\n",
            "0.5678066037735849\n",
            "Specificity:\n",
            "0.6784446961117403\n",
            "Precision:\n",
            "0.18441210264266564\n",
            "Balanced Accuracy:\n",
            "0.6231256499426626\n",
            "F1 score:\n",
            "0.27840416305290544\n"
          ]
        },
        {
          "output_type": "stream",
          "name": "stderr",
          "text": [
            "/usr/local/lib/python3.7/dist-packages/sklearn/base.py:451: UserWarning: X does not have valid feature names, but RandomForestClassifier was fitted with feature names\n",
            "  \"X does not have valid feature names, but\"\n"
          ]
        }
      ]
    },
    {
      "cell_type": "code",
      "source": [
        "best_cl_normal.loc[len(best_cl_normal)] = rf_perf"
      ],
      "metadata": {
        "id": "msy0H2yvu-Sr"
      },
      "execution_count": null,
      "outputs": []
    },
    {
      "cell_type": "code",
      "source": [
        "print(len(rf.estimators_))\n",
        "print(rf.estimators_[0].tree_.max_depth)"
      ],
      "metadata": {
        "colab": {
          "base_uri": "https://localhost:8080/"
        },
        "id": "dDkz9eglKYxB",
        "outputId": "375282d4-b2cf-47ab-8010-1e7e95135445"
      },
      "execution_count": null,
      "outputs": [
        {
          "output_type": "stream",
          "name": "stdout",
          "text": [
            "100\n",
            "38\n"
          ]
        }
      ]
    },
    {
      "cell_type": "code",
      "source": [
        "# Plotting random forest with 3 levels only \n",
        "rf = RandomForestClassifier(n_estimators=100, max_depth=3)\n",
        "rf.fit(X_sm,y_sm)\n",
        "fig=plt.figure(figsize=(23,15))\n",
        "_ = tree.plot_tree(rf.estimators_[0], feature_names=X.columns, filled=True,fontsize=10)\n",
        "plt.title('Random Forest');"
      ],
      "metadata": {
        "colab": {
          "base_uri": "https://localhost:8080/",
          "height": 854
        },
        "id": "80NexBlsudQL",
        "outputId": "aa1823f0-533f-49be-9c65-1458d1fb8881"
      },
      "execution_count": null,
      "outputs": [
        {
          "output_type": "display_data",
          "data": {
            "text/plain": [
              "<Figure size 1656x1080 with 1 Axes>"
            ],
            "image/png": "[encoded data removed]"
          },
          "metadata": {
            "needs_background": "light"
          }
        }
      ]
    },
    {
      "cell_type": "markdown",
      "source": [
        "### *b. Decision Tree Classifier*"
      ],
      "metadata": {
        "id": "f-72-jylQwLX"
      }
    },
    {
      "cell_type": "code",
      "source": [
        "dt = DecisionTreeClassifier()\n",
        "dt.fit(X_sm, y_sm)\n",
        "Accuracy_dt_sm,Recall_dt_sm,Specificity_dt_sm,Precision_dt_sm,F1_score_dt_sm,Balanced_Accuracy_dt_sm = model_perf_v1(dt,X_sm, X_test,y_sm,y_test)\n",
        "dt_perf = model_perf_to_lst(dt, X_test, y_test) "
      ],
      "metadata": {
        "colab": {
          "base_uri": "https://localhost:8080/",
          "height": 610
        },
        "id": "gMfDLMvi8Q4J",
        "outputId": "d5978619-c5f1-4c3e-8f99-5d9243cf4591"
      },
      "execution_count": null,
      "outputs": [
        {
          "output_type": "stream",
          "name": "stdout",
          "text": [
            "Accuracy on training set:\n",
            "1.0\n",
            "Accuracy on testing set:\n",
            "0.5685027775918613\n"
          ]
        },
        {
          "output_type": "stream",
          "name": "stderr",
          "text": [
            "/usr/local/lib/python3.7/dist-packages/sklearn/base.py:451: UserWarning: X does not have valid feature names, but DecisionTreeClassifier was fitted with feature names\n",
            "  \"X does not have valid feature names, but\"\n"
          ]
        },
        {
          "output_type": "display_data",
          "data": {
            "text/plain": [
              "<Figure size 432x288 with 1 Axes>"
            ],
            "image/png": "[encoded data removed]"
          },
          "metadata": {
            "needs_background": "light"
          }
        },
        {
          "output_type": "stream",
          "name": "stdout",
          "text": [
            "Recall:\n",
            "0.42629716981132076\n",
            "Specificity:\n",
            "0.586711966779917\n",
            "Precision:\n",
            "0.11666935614006778\n",
            "Balanced Accuracy:\n",
            "0.5065045682956189\n",
            "F1 score:\n",
            "0.18320030406689475\n"
          ]
        },
        {
          "output_type": "stream",
          "name": "stderr",
          "text": [
            "/usr/local/lib/python3.7/dist-packages/sklearn/base.py:451: UserWarning: X does not have valid feature names, but DecisionTreeClassifier was fitted with feature names\n",
            "  \"X does not have valid feature names, but\"\n"
          ]
        }
      ]
    },
    {
      "cell_type": "code",
      "source": [
        "best_cl_normal.loc[len(best_cl_normal)] = dt_perf"
      ],
      "metadata": {
        "id": "ek66ZWh3vh1s"
      },
      "execution_count": null,
      "outputs": []
    },
    {
      "cell_type": "code",
      "source": [
        "# Plotting Decision Tree with 3 levels only \n",
        "dt = DecisionTreeClassifier(max_depth=3)\n",
        "fig=plt.figure(figsize=(23,15))\n",
        "tree.plot_tree(decision_tree=dt.fit(X_sm, y_sm),feature_names=X.columns, filled=True,fontsize=10);\n",
        "plt.title('Decision Tree');"
      ],
      "metadata": {
        "colab": {
          "base_uri": "https://localhost:8080/",
          "height": 854
        },
        "id": "Rs2CZupAxKO5",
        "outputId": "246e15e1-f446-4439-955f-2b3b9fb63754"
      },
      "execution_count": null,
      "outputs": [
        {
          "output_type": "display_data",
          "data": {
            "text/plain": [
              "<Figure size 1656x1080 with 1 Axes>"
            ],
            "image/png": "[encoded data removed]"
          },
          "metadata": {
            "needs_background": "light"
          }
        }
      ]
    },
    {
      "cell_type": "markdown",
      "source": [
        "### *c. Logistic Regression Classifier*"
      ],
      "metadata": {
        "id": "OzH7vXSeRI15"
      }
    },
    {
      "cell_type": "code",
      "source": [
        "log = LogisticRegression(max_iter=5000)\n",
        "#Fitting the model\n",
        "log.fit(X_sm, y_sm)\n",
        "Accuracy_log_sm, Recall_log_sm, Specificity_log_sm, Precision_log_sm, F1_score_log_sm, Balanced_Accuracy_log_sm = model_perf_v1(log,X_sm,X_test,y_sm,y_test)\n",
        "log_perf = model_perf_to_lst(log, X_test, y_test) "
      ],
      "metadata": {
        "colab": {
          "base_uri": "https://localhost:8080/",
          "height": 610
        },
        "id": "5yHorNJ7RLiL",
        "outputId": "0b21aac1-362b-4002-cc93-1eb7db4b8fae"
      },
      "execution_count": null,
      "outputs": [
        {
          "output_type": "stream",
          "name": "stdout",
          "text": [
            "Accuracy on training set:\n",
            "0.9338435066111211\n",
            "Accuracy on testing set:\n",
            "0.12783615554514424\n"
          ]
        },
        {
          "output_type": "stream",
          "name": "stderr",
          "text": [
            "/usr/local/lib/python3.7/dist-packages/sklearn/base.py:451: UserWarning: X does not have valid feature names, but LogisticRegression was fitted with feature names\n",
            "  \"X does not have valid feature names, but\"\n"
          ]
        },
        {
          "output_type": "display_data",
          "data": {
            "text/plain": [
              "<Figure size 432x288 with 1 Axes>"
            ],
            "image/png": "[encoded data removed]"
          },
          "metadata": {
            "needs_background": "light"
          }
        },
        {
          "output_type": "stream",
          "name": "stdout",
          "text": [
            "Recall:\n",
            "0.9268867924528302\n",
            "Specificity:\n",
            "0.025519063797659496\n",
            "Precision:\n",
            "0.10857103391118171\n",
            "Balanced Accuracy:\n",
            "0.47620292812524484\n",
            "F1 score:\n",
            "0.19437403400309117\n"
          ]
        },
        {
          "output_type": "stream",
          "name": "stderr",
          "text": [
            "/usr/local/lib/python3.7/dist-packages/sklearn/base.py:451: UserWarning: X does not have valid feature names, but LogisticRegression was fitted with feature names\n",
            "  \"X does not have valid feature names, but\"\n"
          ]
        }
      ]
    },
    {
      "cell_type": "code",
      "source": [
        "best_cl_normal.loc[len(best_cl_normal)] = log_perf"
      ],
      "metadata": {
        "id": "88TdwU6xvo5h"
      },
      "execution_count": null,
      "outputs": []
    },
    {
      "cell_type": "markdown",
      "source": [
        "### *d. Gradient Boost Classifier*"
      ],
      "metadata": {
        "id": "555izjNERciJ"
      }
    },
    {
      "cell_type": "code",
      "source": [
        "grb = GradientBoostingClassifier()\n",
        "grb.fit(X_sm, y_sm)\n",
        "Accuracy_grb_sm, Recall_grb_sm, Specificity_grb_sm, Precision_grb_sm, F1_score_grb_sm, Balanced_Accuracy_grb_sm = model_perf_v1(grb,X_sm,X_test,y_sm,y_test)\n",
        "grb_perf = model_perf_to_lst(grb, X_test, y_test) "
      ],
      "metadata": {
        "colab": {
          "base_uri": "https://localhost:8080/",
          "height": 610
        },
        "id": "-kvhqu2fRiLv",
        "outputId": "dd2e9cac-f1de-494a-e9c7-961fc81e263d"
      },
      "execution_count": null,
      "outputs": [
        {
          "output_type": "stream",
          "name": "stderr",
          "text": [
            "/usr/local/lib/python3.7/dist-packages/sklearn/base.py:451: UserWarning: X does not have valid feature names, but GradientBoostingClassifier was fitted with feature names\n",
            "  \"X does not have valid feature names, but\"\n"
          ]
        },
        {
          "output_type": "stream",
          "name": "stdout",
          "text": [
            "Accuracy on training set:\n",
            "0.9300851295055244\n",
            "Accuracy on testing set:\n",
            "0.7728398366909845\n"
          ]
        },
        {
          "output_type": "display_data",
          "data": {
            "text/plain": [
              "<Figure size 432x288 with 1 Axes>"
            ],
            "image/png": "[encoded data removed]"
          },
          "metadata": {
            "needs_background": "light"
          }
        },
        {
          "output_type": "stream",
          "name": "stdout",
          "text": [
            "Recall:\n",
            "0.5047169811320755\n",
            "Specificity:\n",
            "0.8071725179312949\n",
            "Precision:\n",
            "0.25102639296187684\n",
            "Balanced Accuracy:\n",
            "0.6559447495316852\n",
            "F1 score:\n",
            "0.33529181355268317\n"
          ]
        },
        {
          "output_type": "stream",
          "name": "stderr",
          "text": [
            "/usr/local/lib/python3.7/dist-packages/sklearn/base.py:451: UserWarning: X does not have valid feature names, but GradientBoostingClassifier was fitted with feature names\n",
            "  \"X does not have valid feature names, but\"\n"
          ]
        }
      ]
    },
    {
      "cell_type": "code",
      "source": [
        "best_cl_normal.loc[len(best_cl_normal)] = grb_perf"
      ],
      "metadata": {
        "id": "j6WqssklvuL-"
      },
      "execution_count": null,
      "outputs": []
    },
    {
      "cell_type": "code",
      "source": [
        "best_cl_normal"
      ],
      "metadata": {
        "colab": {
          "base_uri": "https://localhost:8080/",
          "height": 175
        },
        "id": "c3I6U-H0wRbp",
        "outputId": "6724b3fb-0469-42fc-c96c-b9f3737e06dc"
      },
      "execution_count": null,
      "outputs": [
        {
          "output_type": "execute_result",
          "data": {
            "text/plain": [
              "                               Model  Accuracy    Recall  Specificity  \\\n",
              "0           RandomForestClassifier()  0.665886  0.567807     0.678445   \n",
              "1           DecisionTreeClassifier()  0.568503  0.426297     0.586712   \n",
              "2  LogisticRegression(max_iter=5000)  0.127836  0.926887     0.025519   \n",
              "3       GradientBoostingClassifier()  0.772840  0.504717     0.807173   \n",
              "\n",
              "   Precision  Balanced Accuracy  F1 score  \n",
              "0   0.184412           0.623126  0.278404  \n",
              "1   0.116669           0.506505  0.183200  \n",
              "2   0.108571           0.476203  0.194374  \n",
              "3   0.251026           0.655945  0.335292  "
            ],
            "text/html": [
              "\n",
              "  <div id=\"df-d4b92bd6-c601-42f4-a5ea-08d560d62593\">\n",
              "    <div class=\"colab-df-container\">\n",
              "      <div>\n",
              "<style scoped>\n",
              "    .dataframe tbody tr th:only-of-type {\n",
              "        vertical-align: middle;\n",
              "    }\n",
              "\n",
              "    .dataframe tbody tr th {\n",
              "        vertical-align: top;\n",
              "    }\n",
              "\n",
              "    .dataframe thead th {\n",
              "        text-align: right;\n",
              "    }\n",
              "</style>\n",
              "<table border=\"1\" class=\"dataframe\">\n",
              "  <thead>\n",
              "    <tr style=\"text-align: right;\">\n",
              "      <th></th>\n",
              "      <th>Model</th>\n",
              "      <th>Accuracy</th>\n",
              "      <th>Recall</th>\n",
              "      <th>Specificity</th>\n",
              "      <th>Precision</th>\n",
              "      <th>Balanced Accuracy</th>\n",
              "      <th>F1 score</th>\n",
              "    </tr>\n",
              "  </thead>\n",
              "  <tbody>\n",
              "    <tr>\n",
              "      <th>0</th>\n",
              "      <td>RandomForestClassifier()</td>\n",
              "      <td>0.665886</td>\n",
              "      <td>0.567807</td>\n",
              "      <td>0.678445</td>\n",
              "      <td>0.184412</td>\n",
              "      <td>0.623126</td>\n",
              "      <td>0.278404</td>\n",
              "    </tr>\n",
              "    <tr>\n",
              "      <th>1</th>\n",
              "      <td>DecisionTreeClassifier()</td>\n",
              "      <td>0.568503</td>\n",
              "      <td>0.426297</td>\n",
              "      <td>0.586712</td>\n",
              "      <td>0.116669</td>\n",
              "      <td>0.506505</td>\n",
              "      <td>0.183200</td>\n",
              "    </tr>\n",
              "    <tr>\n",
              "      <th>2</th>\n",
              "      <td>LogisticRegression(max_iter=5000)</td>\n",
              "      <td>0.127836</td>\n",
              "      <td>0.926887</td>\n",
              "      <td>0.025519</td>\n",
              "      <td>0.108571</td>\n",
              "      <td>0.476203</td>\n",
              "      <td>0.194374</td>\n",
              "    </tr>\n",
              "    <tr>\n",
              "      <th>3</th>\n",
              "      <td>GradientBoostingClassifier()</td>\n",
              "      <td>0.772840</td>\n",
              "      <td>0.504717</td>\n",
              "      <td>0.807173</td>\n",
              "      <td>0.251026</td>\n",
              "      <td>0.655945</td>\n",
              "      <td>0.335292</td>\n",
              "    </tr>\n",
              "  </tbody>\n",
              "</table>\n",
              "</div>\n",
              "      <button class=\"colab-df-convert\" onclick=\"convertToInteractive('df-d4b92bd6-c601-42f4-a5ea-08d560d62593')\"\n",
              "              title=\"Convert this dataframe to an interactive table.\"\n",
              "              style=\"display:none;\">\n",
              "        \n",
              "  <svg xmlns=\"http://www.w3.org/2000/svg\" height=\"24px\"viewBox=\"0 0 24 24\"\n",
              "       width=\"24px\">\n",
              "    <path d=\"M0 0h24v24H0V0z\" fill=\"none\"/>\n",
              "    <path d=\"M18.56 5.44l.94 2.06.94-2.06 2.06-.94-2.06-.94-.94-2.06-.94 2.06-2.06.94zm-11 1L8.5 8.5l.94-2.06 2.06-.94-2.06-.94L8.5 2.5l-.94 2.06-2.06.94zm10 10l.94 2.06.94-2.06 2.06-.94-2.06-.94-.94-2.06-.94 2.06-2.06.94z\"/><path d=\"M17.41 7.96l-1.37-1.37c-.4-.4-.92-.59-1.43-.59-.52 0-1.04.2-1.43.59L10.3 9.45l-7.72 7.72c-.78.78-.78 2.05 0 2.83L4 21.41c.39.39.9.59 1.41.59.51 0 1.02-.2 1.41-.59l7.78-7.78 2.81-2.81c.8-.78.8-2.07 0-2.86zM5.41 20L4 18.59l7.72-7.72 1.47 1.35L5.41 20z\"/>\n",
              "  </svg>\n",
              "      </button>\n",
              "      \n",
              "  <style>\n",
              "    .colab-df-container {\n",
              "      display:flex;\n",
              "      flex-wrap:wrap;\n",
              "      gap: 12px;\n",
              "    }\n",
              "\n",
              "    .colab-df-convert {\n",
              "      background-color: #E8F0FE;\n",
              "      border: none;\n",
              "      border-radius: 50%;\n",
              "      cursor: pointer;\n",
              "      display: none;\n",
              "      fill: #1967D2;\n",
              "      height: 32px;\n",
              "      padding: 0 0 0 0;\n",
              "      width: 32px;\n",
              "    }\n",
              "\n",
              "    .colab-df-convert:hover {\n",
              "      background-color: #E2EBFA;\n",
              "      box-shadow: 0px 1px 2px rgba(60, 64, 67, 0.3), 0px 1px 3px 1px rgba(60, 64, 67, 0.15);\n",
              "      fill: #174EA6;\n",
              "    }\n",
              "\n",
              "    [theme=dark] .colab-df-convert {\n",
              "      background-color: #3B4455;\n",
              "      fill: #D2E3FC;\n",
              "    }\n",
              "\n",
              "    [theme=dark] .colab-df-convert:hover {\n",
              "      background-color: #434B5C;\n",
              "      box-shadow: 0px 1px 3px 1px rgba(0, 0, 0, 0.15);\n",
              "      filter: drop-shadow(0px 1px 2px rgba(0, 0, 0, 0.3));\n",
              "      fill: #FFFFFF;\n",
              "    }\n",
              "  </style>\n",
              "\n",
              "      <script>\n",
              "        const buttonEl =\n",
              "          document.querySelector('#df-d4b92bd6-c601-42f4-a5ea-08d560d62593 button.colab-df-convert');\n",
              "        buttonEl.style.display =\n",
              "          google.colab.kernel.accessAllowed ? 'block' : 'none';\n",
              "\n",
              "        async function convertToInteractive(key) {\n",
              "          const element = document.querySelector('#df-d4b92bd6-c601-42f4-a5ea-08d560d62593');\n",
              "          const dataTable =\n",
              "            await google.colab.kernel.invokeFunction('convertToInteractive',\n",
              "                                                     [key], {});\n",
              "          if (!dataTable) return;\n",
              "\n",
              "          const docLinkHtml = 'Like what you see? Visit the ' +\n",
              "            '<a target=\"_blank\" href=https://colab.research.google.com/notebooks/data_table.ipynb>data table notebook</a>'\n",
              "            + ' to learn more about interactive tables.';\n",
              "          element.innerHTML = '';\n",
              "          dataTable['output_type'] = 'display_data';\n",
              "          await google.colab.output.renderOutput(dataTable, element);\n",
              "          const docLink = document.createElement('div');\n",
              "          docLink.innerHTML = docLinkHtml;\n",
              "          element.appendChild(docLink);\n",
              "        }\n",
              "      </script>\n",
              "    </div>\n",
              "  </div>\n",
              "  "
            ]
          },
          "metadata": {},
          "execution_count": 73
        }
      ]
    },
    {
      "cell_type": "markdown",
      "source": [
        "# **VII. Hyperparameter Tuning**"
      ],
      "metadata": {
        "id": "aF71hi5wxn5O"
      }
    },
    {
      "cell_type": "code",
      "source": [
        "# Helper function for grid search\n",
        "def grid_search_helper():\n",
        "    \n",
        "    pipeline1 = Pipeline((\n",
        "    ('clf', DecisionTreeClassifier()),\n",
        "    ))\n",
        "\n",
        "    pipeline2 = Pipeline((\n",
        "    ('clf', LogisticRegression()),\n",
        "    ))\n",
        "\n",
        "    pipeline3 = Pipeline((\n",
        "    ('clf', GradientBoostingClassifier()),\n",
        "    ))\n",
        "\n",
        "    parameters1 = {\n",
        "    'clf__min_samples_split': [5, 10, 20, 30, 40, 50], \n",
        "    'clf__max_depth': list(range(1,15))\n",
        "    }\n",
        "\n",
        "    parameters2 = {\n",
        "    'clf__C': np.logspace(0, 4, 10)\n",
        "     }\n",
        "    \n",
        "    parameters3 ={\n",
        "    'clf__n_estimators':[1, 2, 5, 10, 20, 50],\n",
        "    'clf__learning_rate':[0.1, 0.3, 0.5, 0.7, 1]\n",
        "    }\n",
        "\n",
        "    pars = [parameters1, parameters2, parameters3]\n",
        "    pips = [pipeline1, pipeline2, pipeline3]\n",
        "\n",
        "    print(\"starting Gridsearch\")\n",
        "    dict_best_params ={}\n",
        "    for i in range(len(pars)):\n",
        "        print(pars[i])\n",
        "        print(pips[i])\n",
        "        gs = GridSearchCV(pips[i], pars[i], cv= 3, n_jobs=-1)\n",
        "        gs.fit(X_train, y_train)\n",
        "        print(\"finished Gridsearch\\n\")\n",
        "        #print(gs.best_estimator_)\n",
        "        dict_best_params[i]= gs.best_estimator_\n",
        "    return dict_best_params"
      ],
      "metadata": {
        "id": "eHN3vX6Fxz3Q"
      },
      "execution_count": null,
      "outputs": []
    },
    {
      "cell_type": "code",
      "source": [
        "best_params_dict = grid_search_helper()"
      ],
      "metadata": {
        "colab": {
          "base_uri": "https://localhost:8080/"
        },
        "id": "20bp37RwyX8F",
        "outputId": "773ab259-5bfb-4f8a-d1aa-380e97bf8661"
      },
      "execution_count": null,
      "outputs": [
        {
          "output_type": "stream",
          "name": "stdout",
          "text": [
            "starting Gridsearch\n",
            "{'clf__min_samples_split': [5, 10, 20, 30, 40, 50], 'clf__max_depth': [1, 2, 3, 4, 5, 6, 7, 8, 9, 10, 11, 12, 13, 14]}\n",
            "Pipeline(steps=(('clf', DecisionTreeClassifier()),))\n",
            "finished Gridsearch\n",
            "\n",
            "{'clf__C': array([1.00000000e+00, 2.78255940e+00, 7.74263683e+00, 2.15443469e+01,\n",
            "       5.99484250e+01, 1.66810054e+02, 4.64158883e+02, 1.29154967e+03,\n",
            "       3.59381366e+03, 1.00000000e+04])}\n",
            "Pipeline(steps=(('clf', LogisticRegression()),))\n",
            "finished Gridsearch\n",
            "\n",
            "{'clf__n_estimators': [1, 2, 5, 10, 20, 50], 'clf__learning_rate': [0.1, 0.3, 0.5, 0.7, 1]}\n",
            "Pipeline(steps=(('clf', GradientBoostingClassifier()),))\n",
            "finished Gridsearch\n",
            "\n"
          ]
        }
      ]
    },
    {
      "cell_type": "markdown",
      "source": [
        "### *a. Decision Tree Classifier*"
      ],
      "metadata": {
        "id": "ZQzlnrQb1BnM"
      }
    },
    {
      "cell_type": "code",
      "source": [
        "Accuracy_dt_h,Recall_dt_h,Specificity_dt_h,Precision_dt_h,F1_score_dt_h,Balanced_Accuracy_dt_h = model_perf_v1(best_params_dict[0],X_sm,X_test,y_sm,y_test)"
      ],
      "metadata": {
        "colab": {
          "base_uri": "https://localhost:8080/",
          "height": 575
        },
        "id": "dZY07Ro70-Q8",
        "outputId": "34c880d4-cd27-4183-c96e-b73414d724d4"
      },
      "execution_count": null,
      "outputs": [
        {
          "output_type": "stream",
          "name": "stdout",
          "text": [
            "Accuracy on training set:\n",
            "0.5355159089536919\n",
            "Accuracy on testing set:\n",
            "0.8860852687236463\n"
          ]
        },
        {
          "output_type": "stream",
          "name": "stderr",
          "text": [
            "/usr/local/lib/python3.7/dist-packages/sklearn/base.py:444: UserWarning: X has feature names, but DecisionTreeClassifier was fitted without feature names\n",
            "  f\"X has feature names, but {self.__class__.__name__} was fitted without\"\n"
          ]
        },
        {
          "output_type": "display_data",
          "data": {
            "text/plain": [
              "<Figure size 432x288 with 1 Axes>"
            ],
            "image/png": "[encoded data removed]"
          },
          "metadata": {
            "needs_background": "light"
          }
        },
        {
          "output_type": "stream",
          "name": "stdout",
          "text": [
            "Recall:\n",
            "0.06308962264150944\n",
            "Specificity:\n",
            "0.9914684786711967\n",
            "Precision:\n",
            "0.4863636363636364\n",
            "Balanced Accuracy:\n",
            "0.527279050656353\n",
            "F1 score:\n",
            "0.1116910229645094\n"
          ]
        }
      ]
    },
    {
      "cell_type": "markdown",
      "source": [
        "### *b. Logistic Regression Classifier*"
      ],
      "metadata": {
        "id": "ny5BsBMr1XXW"
      }
    },
    {
      "cell_type": "code",
      "source": [
        "Accuracy_log_h, Recall_log_h, Specificity_log_h, Precision_log_h, F1_score_log_h, Balanced_Accuracy_log_h = model_perf_v1(best_params_dict[1],X_sm,X_test,y_sm,y_test)"
      ],
      "metadata": {
        "colab": {
          "base_uri": "https://localhost:8080/",
          "height": 575
        },
        "id": "rgliHr8A1W3n",
        "outputId": "4fe1a4bd-f8e3-4c50-93e9-1aa87255bc18"
      },
      "execution_count": null,
      "outputs": [
        {
          "output_type": "stream",
          "name": "stdout",
          "text": [
            "Accuracy on training set:\n",
            "0.5525116222906479\n",
            "Accuracy on testing set:\n",
            "0.8865537781942306\n"
          ]
        },
        {
          "output_type": "stream",
          "name": "stderr",
          "text": [
            "/usr/local/lib/python3.7/dist-packages/sklearn/base.py:444: UserWarning: X has feature names, but LogisticRegression was fitted without feature names\n",
            "  f\"X has feature names, but {self.__class__.__name__} was fitted without\"\n"
          ]
        },
        {
          "output_type": "display_data",
          "data": {
            "text/plain": [
              "<Figure size 432x288 with 1 Axes>"
            ],
            "image/png": "[encoded data removed]"
          },
          "metadata": {
            "needs_background": "light"
          }
        },
        {
          "output_type": "stream",
          "name": "stdout",
          "text": [
            "Recall:\n",
            "0.07547169811320754\n",
            "Specificity:\n",
            "0.9904114760286901\n",
            "Precision:\n",
            "0.5019607843137255\n",
            "Balanced Accuracy:\n",
            "0.5329415870709489\n",
            "F1 score:\n",
            "0.13121476166068682\n"
          ]
        }
      ]
    },
    {
      "cell_type": "markdown",
      "source": [
        "### *c. Gradient Boost Classifier*"
      ],
      "metadata": {
        "id": "gMj6iTtU12SO"
      }
    },
    {
      "cell_type": "code",
      "source": [
        "Accuracy_grb_h, Recall_grb_h, Specificity_grb_h, Precision_grb_h, F1_score_grb_h, Balanced_Accuracy_grb_h = model_perf_v1(best_params_dict[2],X_sm,X_test,y_sm,y_test)"
      ],
      "metadata": {
        "colab": {
          "base_uri": "https://localhost:8080/",
          "height": 575
        },
        "id": "rB1Al32511_9",
        "outputId": "63b9aa6a-3382-47b6-bd74-e6da19a5c8ca"
      },
      "execution_count": null,
      "outputs": [
        {
          "output_type": "stream",
          "name": "stdout",
          "text": [
            "Accuracy on training set:\n",
            "0.4997132162047938\n",
            "Accuracy on testing set:\n",
            "0.8914396626731812\n"
          ]
        },
        {
          "output_type": "stream",
          "name": "stderr",
          "text": [
            "/usr/local/lib/python3.7/dist-packages/sklearn/base.py:444: UserWarning: X has feature names, but GradientBoostingClassifier was fitted without feature names\n",
            "  f\"X has feature names, but {self.__class__.__name__} was fitted without\"\n"
          ]
        },
        {
          "output_type": "display_data",
          "data": {
            "text/plain": [
              "<Figure size 432x288 with 1 Axes>"
            ],
            "image/png": "[encoded data removed]"
          },
          "metadata": {
            "needs_background": "light"
          }
        },
        {
          "output_type": "stream",
          "name": "stdout",
          "text": [
            "Recall:\n",
            "0.17570754716981132\n",
            "Specificity:\n",
            "0.9830879577198943\n",
            "Precision:\n",
            "0.5708812260536399\n",
            "Balanced Accuracy:\n",
            "0.5793977524448528\n",
            "F1 score:\n",
            "0.26871055004508565\n"
          ]
        }
      ]
    },
    {
      "cell_type": "markdown",
      "source": [
        "### *d. Random Forest Classifier*"
      ],
      "metadata": {
        "id": "dUPkMb4R2HnV"
      }
    },
    {
      "cell_type": "code",
      "source": [
        "# 3 fold cross validation\n",
        "k=3\n",
        "params = dict(\n",
        "    min_samples_split = [5, 10, 20, 30, 40, 50], \n",
        "    max_depth = list(range(1,15)), \n",
        "    n_estimators = [1, 2, 5, 10, 20, 50] \n",
        ")\n",
        "params"
      ],
      "metadata": {
        "colab": {
          "base_uri": "https://localhost:8080/"
        },
        "id": "cnvgwPsM2PIV",
        "outputId": "83ff1e45-3153-4ec2-9722-f9ad649002d7"
      },
      "execution_count": null,
      "outputs": [
        {
          "output_type": "execute_result",
          "data": {
            "text/plain": [
              "{'max_depth': [1, 2, 3, 4, 5, 6, 7, 8, 9, 10, 11, 12, 13, 14],\n",
              " 'min_samples_split': [5, 10, 20, 30, 40, 50],\n",
              " 'n_estimators': [1, 2, 5, 10, 20, 50]}"
            ]
          },
          "metadata": {},
          "execution_count": 79
        }
      ]
    },
    {
      "cell_type": "code",
      "source": [
        "rf_1 = RandomForestClassifier()\n",
        "rf_gs = GridSearchCV(estimator=rf_1, param_grid=params, cv=k, n_jobs=-1 )\n",
        "# fitting the random forest model\n",
        "rf_gs.fit(X_sm, y_sm)\n",
        "best_estimator_rf = rf_gs.best_estimator_"
      ],
      "metadata": {
        "id": "zHcrilif2SAv"
      },
      "execution_count": null,
      "outputs": []
    },
    {
      "cell_type": "code",
      "source": [
        "Accuracy_rf_h, Recall_rf_h, Specificity_rf_h, Precision_rf_h, F1_score_rf_h, Balanced_Accuracy_rf_h = model_perf_v1(best_estimator_rf,X_sm,X_test,y_sm,y_test)"
      ],
      "metadata": {
        "colab": {
          "base_uri": "https://localhost:8080/",
          "height": 575
        },
        "id": "WQGY3Pyv2YEX",
        "outputId": "c7d4da53-ba8f-4b12-b4e0-75e83e16b31b"
      },
      "execution_count": null,
      "outputs": [
        {
          "output_type": "stream",
          "name": "stdout",
          "text": [
            "Accuracy on training set:\n",
            "0.725864879550806\n",
            "Accuracy on testing set:\n",
            "0.5830265711799746\n"
          ]
        },
        {
          "output_type": "stream",
          "name": "stderr",
          "text": [
            "/usr/local/lib/python3.7/dist-packages/sklearn/base.py:451: UserWarning: X does not have valid feature names, but RandomForestClassifier was fitted with feature names\n",
            "  \"X does not have valid feature names, but\"\n"
          ]
        },
        {
          "output_type": "display_data",
          "data": {
            "text/plain": [
              "<Figure size 432x288 with 1 Axes>"
            ],
            "image/png": "[encoded data removed]"
          },
          "metadata": {
            "needs_background": "light"
          }
        },
        {
          "output_type": "stream",
          "name": "stdout",
          "text": [
            "Recall:\n",
            "0.6886792452830188\n",
            "Specificity:\n",
            "0.5694979237448093\n",
            "Precision:\n",
            "0.1700145560407569\n",
            "Balanced Accuracy:\n",
            "0.629088584513914\n",
            "F1 score:\n",
            "0.27270604716320335\n"
          ]
        }
      ]
    },
    {
      "cell_type": "code",
      "source": [
        "# Plotting random forest with 3 levels only \n",
        "rf_1 = RandomForestClassifier(n_estimators=100, max_depth=3)\n",
        "rf_1.fit(X_sm,y_sm)\n",
        "fig=plt.figure(figsize=(23,15))\n",
        "_rf1 = tree.plot_tree(rf_1.estimators_[0], feature_names=X.columns, filled=True,fontsize=10)\n",
        "plt.title('Random Forest_Hypertuned');"
      ],
      "metadata": {
        "colab": {
          "base_uri": "https://localhost:8080/",
          "height": 854
        },
        "id": "eXvPcm1k4M7H",
        "outputId": "1b813c38-6290-4cb2-80b1-75cabeb2c6dd"
      },
      "execution_count": null,
      "outputs": [
        {
          "output_type": "display_data",
          "data": {
            "text/plain": [
              "<Figure size 1656x1080 with 1 Axes>"
            ],
            "image/png": "[encoded data removed]"
          },
          "metadata": {
            "needs_background": "light"
          }
        }
      ]
    },
    {
      "cell_type": "markdown",
      "source": [
        "# **VII. Comparison table for the classification models (Hypertuned Parameters)**"
      ],
      "metadata": {
        "id": "tzFFy65DSk_M"
      }
    },
    {
      "cell_type": "code",
      "source": [
        "column_labels = ['classifier','accuracy','recall','specificity','precision','f1-score','balanced']"
      ],
      "metadata": {
        "id": "46C9VDntSqTA"
      },
      "execution_count": null,
      "outputs": []
    },
    {
      "cell_type": "code",
      "source": [
        "df_1 = pd.DataFrame([['RandomForest_h',Accuracy_rf_h,Recall_rf_h,Specificity_rf_h,Precision_rf_h,F1_score_rf_h,Balanced_Accuracy_rf_h]],columns =column_labels )\n",
        "df_2=  pd.DataFrame([['DecisionTree_h',Accuracy_dt_h,Recall_dt_h,Specificity_dt_h,Precision_dt_h,F1_score_dt_h,Balanced_Accuracy_dt_h]],columns =column_labels )\n",
        "df_3 = pd.DataFrame([['LogisticRegression_h',Accuracy_log_h,Recall_log_h,Specificity_log_h,Precision_log_h,F1_score_log_h,Balanced_Accuracy_log_h]],columns =column_labels )\n",
        "df_4 = pd.DataFrame([['GradientBoosting_h',Accuracy_grb_h,Recall_grb_h,Specificity_grb_h,Precision_grb_h,F1_score_grb_h,Balanced_Accuracy_grb_h]],columns =column_labels )"
      ],
      "metadata": {
        "id": "NDWpgNOXSt3W"
      },
      "execution_count": null,
      "outputs": []
    },
    {
      "cell_type": "code",
      "source": [
        "combined_data= pd.concat([df_1, df_2, df_3, df_4])\n",
        "combined_data"
      ],
      "metadata": {
        "id": "bhKL8OsDTQx-",
        "outputId": "eac7c3dc-e2df-4a05-a8c1-7bdd329f9c30",
        "colab": {
          "base_uri": "https://localhost:8080/",
          "height": 175
        }
      },
      "execution_count": null,
      "outputs": [
        {
          "output_type": "execute_result",
          "data": {
            "text/plain": [
              "             classifier  accuracy    recall  specificity  precision  f1-score  \\\n",
              "0        RandomForest_h  0.583027  0.688679     0.569498   0.170015  0.272706   \n",
              "0        DecisionTree_h  0.886085  0.063090     0.991468   0.486364  0.111691   \n",
              "0  LogisticRegression_h  0.886554  0.075472     0.990411   0.501961  0.131215   \n",
              "0    GradientBoosting_h  0.891440  0.175708     0.983088   0.570881  0.268711   \n",
              "\n",
              "   balanced  \n",
              "0  0.629089  \n",
              "0  0.527279  \n",
              "0  0.532942  \n",
              "0  0.579398  "
            ],
            "text/html": [
              "\n",
              "  <div id=\"df-362dc9be-8d89-4cf0-8278-50340d94d121\">\n",
              "    <div class=\"colab-df-container\">\n",
              "      <div>\n",
              "<style scoped>\n",
              "    .dataframe tbody tr th:only-of-type {\n",
              "        vertical-align: middle;\n",
              "    }\n",
              "\n",
              "    .dataframe tbody tr th {\n",
              "        vertical-align: top;\n",
              "    }\n",
              "\n",
              "    .dataframe thead th {\n",
              "        text-align: right;\n",
              "    }\n",
              "</style>\n",
              "<table border=\"1\" class=\"dataframe\">\n",
              "  <thead>\n",
              "    <tr style=\"text-align: right;\">\n",
              "      <th></th>\n",
              "      <th>classifier</th>\n",
              "      <th>accuracy</th>\n",
              "      <th>recall</th>\n",
              "      <th>specificity</th>\n",
              "      <th>precision</th>\n",
              "      <th>f1-score</th>\n",
              "      <th>balanced</th>\n",
              "    </tr>\n",
              "  </thead>\n",
              "  <tbody>\n",
              "    <tr>\n",
              "      <th>0</th>\n",
              "      <td>RandomForest_h</td>\n",
              "      <td>0.583027</td>\n",
              "      <td>0.688679</td>\n",
              "      <td>0.569498</td>\n",
              "      <td>0.170015</td>\n",
              "      <td>0.272706</td>\n",
              "      <td>0.629089</td>\n",
              "    </tr>\n",
              "    <tr>\n",
              "      <th>0</th>\n",
              "      <td>DecisionTree_h</td>\n",
              "      <td>0.886085</td>\n",
              "      <td>0.063090</td>\n",
              "      <td>0.991468</td>\n",
              "      <td>0.486364</td>\n",
              "      <td>0.111691</td>\n",
              "      <td>0.527279</td>\n",
              "    </tr>\n",
              "    <tr>\n",
              "      <th>0</th>\n",
              "      <td>LogisticRegression_h</td>\n",
              "      <td>0.886554</td>\n",
              "      <td>0.075472</td>\n",
              "      <td>0.990411</td>\n",
              "      <td>0.501961</td>\n",
              "      <td>0.131215</td>\n",
              "      <td>0.532942</td>\n",
              "    </tr>\n",
              "    <tr>\n",
              "      <th>0</th>\n",
              "      <td>GradientBoosting_h</td>\n",
              "      <td>0.891440</td>\n",
              "      <td>0.175708</td>\n",
              "      <td>0.983088</td>\n",
              "      <td>0.570881</td>\n",
              "      <td>0.268711</td>\n",
              "      <td>0.579398</td>\n",
              "    </tr>\n",
              "  </tbody>\n",
              "</table>\n",
              "</div>\n",
              "      <button class=\"colab-df-convert\" onclick=\"convertToInteractive('df-362dc9be-8d89-4cf0-8278-50340d94d121')\"\n",
              "              title=\"Convert this dataframe to an interactive table.\"\n",
              "              style=\"display:none;\">\n",
              "        \n",
              "  <svg xmlns=\"http://www.w3.org/2000/svg\" height=\"24px\"viewBox=\"0 0 24 24\"\n",
              "       width=\"24px\">\n",
              "    <path d=\"M0 0h24v24H0V0z\" fill=\"none\"/>\n",
              "    <path d=\"M18.56 5.44l.94 2.06.94-2.06 2.06-.94-2.06-.94-.94-2.06-.94 2.06-2.06.94zm-11 1L8.5 8.5l.94-2.06 2.06-.94-2.06-.94L8.5 2.5l-.94 2.06-2.06.94zm10 10l.94 2.06.94-2.06 2.06-.94-2.06-.94-.94-2.06-.94 2.06-2.06.94z\"/><path d=\"M17.41 7.96l-1.37-1.37c-.4-.4-.92-.59-1.43-.59-.52 0-1.04.2-1.43.59L10.3 9.45l-7.72 7.72c-.78.78-.78 2.05 0 2.83L4 21.41c.39.39.9.59 1.41.59.51 0 1.02-.2 1.41-.59l7.78-7.78 2.81-2.81c.8-.78.8-2.07 0-2.86zM5.41 20L4 18.59l7.72-7.72 1.47 1.35L5.41 20z\"/>\n",
              "  </svg>\n",
              "      </button>\n",
              "      \n",
              "  <style>\n",
              "    .colab-df-container {\n",
              "      display:flex;\n",
              "      flex-wrap:wrap;\n",
              "      gap: 12px;\n",
              "    }\n",
              "\n",
              "    .colab-df-convert {\n",
              "      background-color: #E8F0FE;\n",
              "      border: none;\n",
              "      border-radius: 50%;\n",
              "      cursor: pointer;\n",
              "      display: none;\n",
              "      fill: #1967D2;\n",
              "      height: 32px;\n",
              "      padding: 0 0 0 0;\n",
              "      width: 32px;\n",
              "    }\n",
              "\n",
              "    .colab-df-convert:hover {\n",
              "      background-color: #E2EBFA;\n",
              "      box-shadow: 0px 1px 2px rgba(60, 64, 67, 0.3), 0px 1px 3px 1px rgba(60, 64, 67, 0.15);\n",
              "      fill: #174EA6;\n",
              "    }\n",
              "\n",
              "    [theme=dark] .colab-df-convert {\n",
              "      background-color: #3B4455;\n",
              "      fill: #D2E3FC;\n",
              "    }\n",
              "\n",
              "    [theme=dark] .colab-df-convert:hover {\n",
              "      background-color: #434B5C;\n",
              "      box-shadow: 0px 1px 3px 1px rgba(0, 0, 0, 0.15);\n",
              "      filter: drop-shadow(0px 1px 2px rgba(0, 0, 0, 0.3));\n",
              "      fill: #FFFFFF;\n",
              "    }\n",
              "  </style>\n",
              "\n",
              "      <script>\n",
              "        const buttonEl =\n",
              "          document.querySelector('#df-362dc9be-8d89-4cf0-8278-50340d94d121 button.colab-df-convert');\n",
              "        buttonEl.style.display =\n",
              "          google.colab.kernel.accessAllowed ? 'block' : 'none';\n",
              "\n",
              "        async function convertToInteractive(key) {\n",
              "          const element = document.querySelector('#df-362dc9be-8d89-4cf0-8278-50340d94d121');\n",
              "          const dataTable =\n",
              "            await google.colab.kernel.invokeFunction('convertToInteractive',\n",
              "                                                     [key], {});\n",
              "          if (!dataTable) return;\n",
              "\n",
              "          const docLinkHtml = 'Like what you see? Visit the ' +\n",
              "            '<a target=\"_blank\" href=https://colab.research.google.com/notebooks/data_table.ipynb>data table notebook</a>'\n",
              "            + ' to learn more about interactive tables.';\n",
              "          element.innerHTML = '';\n",
              "          dataTable['output_type'] = 'display_data';\n",
              "          await google.colab.output.renderOutput(dataTable, element);\n",
              "          const docLink = document.createElement('div');\n",
              "          docLink.innerHTML = docLinkHtml;\n",
              "          element.appendChild(docLink);\n",
              "        }\n",
              "      </script>\n",
              "    </div>\n",
              "  </div>\n",
              "  "
            ]
          },
          "metadata": {},
          "execution_count": 85
        }
      ]
    },
    {
      "cell_type": "code",
      "source": [
        "m_accuracies = {'Decision Tree' : (Accuracy_dt_h*100) ,\n",
        "                     'Logistic Regression' : (Accuracy_log_h*100), \n",
        "                     'GradientBoost' : (Accuracy_grb_h*100), \n",
        "                     'Random Forest' : (Accuracy_rf_h*100)}\n",
        "m_accu_list = list(m_accuracies.keys())"
      ],
      "metadata": {
        "id": "MYdZF8r6-oBy"
      },
      "execution_count": null,
      "outputs": []
    },
    {
      "cell_type": "markdown",
      "source": [
        "# **VIII. Comparison plot for the classification models (Hypertuned Parameters)**"
      ],
      "metadata": {
        "id": "OvWBviKIEKlb"
      }
    },
    {
      "cell_type": "code",
      "source": [
        "colors = [\"Red\", \"Gray\", \"Blue\", \"Orange\"]\n",
        "sns.set_style(\"whitegrid\")\n",
        "plt.figure(figsize=(7,7))\n",
        "plt.yticks(np.arange(0,150,10))\n",
        "plt.ylabel(\"Accuracy %\")\n",
        "plt.xlabel(\"Model\")\n",
        "sns.barplot(x=list(m_accuracies.keys()), y=list(m_accuracies.values()), palette=colors)\n",
        "plt.show()"
      ],
      "metadata": {
        "colab": {
          "base_uri": "https://localhost:8080/",
          "height": 442
        },
        "id": "-yrEN1cm_fci",
        "outputId": "e7505853-873e-488d-c826-31e680849816"
      },
      "execution_count": null,
      "outputs": [
        {
          "output_type": "display_data",
          "data": {
            "text/plain": [
              "<Figure size 504x504 with 1 Axes>"
            ],
            "image/png": "[encoded data removed]"
          },
          "metadata": {}
        }
      ]
    },
    {
      "cell_type": "markdown",
      "source": [
        "# **- End of Modeling -**"
      ],
      "metadata": {
        "id": "q88smcH0_U_d"
      }
    },
    {
      "cell_type": "markdown",
      "source": [
        "#Conclusion:\n",
        "* The accuracy of the various models improved after a hyperparameter\n",
        "adjustment using grid search. The Gradient Boost Classifier achieved the best\n",
        "accuracy and precision, respectively, of **89.92** and **57.1**\n",
        "\n",
        "* We use accuracy as our main criterion for selecting the best model because we are taking into account the balanced data set after hyperparameter tuning.\n",
        "\n",
        "* The target variable ratio is 1:8 before adjusting the hyperparameter parameters. A 1:1 class ratio has been reached after using the SMOTE oversampling technique."
      ],
      "metadata": {
        "id": "fNSBsXQJ7h7r"
      }
    },
    {
      "cell_type": "markdown",
      "source": [
        "*Submitted by:*\n",
        "\n",
        "*   Glen George A. Bautista\n",
        "*   Maria Paula Sanchez Galindo"
      ],
      "metadata": {
        "id": "6ddzlQZi4pIa"
      }
    }
  ]
}